{
  "cells": [
    {
      "cell_type": "code",
      "execution_count": null,
      "metadata": {
        "id": "G4APJaVBbArK"
      },
      "outputs": [],
      "source": [
        "import pandas as pd\n",
        "import numpy as np\n",
        "import pandas_datareader as pdr"
      ]
    },
    {
      "cell_type": "code",
      "source": [
        "import yfinance as yfin\n",
        "from pandas_datareader import data as pdr"
      ],
      "metadata": {
        "id": "WbPvm-MUcDGS"
      },
      "execution_count": null,
      "outputs": []
    },
    {
      "cell_type": "code",
      "source": [],
      "metadata": {
        "id": "409AuSQpcEIq"
      },
      "execution_count": null,
      "outputs": []
    },
    {
      "cell_type": "code",
      "execution_count": null,
      "metadata": {
        "id": "FBzk-n77bArP"
      },
      "outputs": [],
      "source": [
        "symbol=pd.read_csv('EQUITY_L.csv')"
      ]
    },
    {
      "cell_type": "code",
      "execution_count": null,
      "metadata": {
        "colab": {
          "base_uri": "https://localhost:8080/",
          "height": 424
        },
        "id": "foQNjJZjbArR",
        "outputId": "0782ce01-ebd7-45a4-90cb-d42f1f3544eb"
      },
      "outputs": [
        {
          "output_type": "execute_result",
          "data": {
            "text/plain": [
              "       SYMBOL                           NAME OF COMPANY  SERIES  \\\n",
              "0   20MICRONS                        20 Microns Limited      EQ   \n",
              "1  21STCENMGM  21st Century Management Services Limited      EQ   \n",
              "2   3IINFOLTD                       3i Infotech Limited      EQ   \n",
              "3     3MINDIA                          3M India Limited      EQ   \n",
              "4      3PLAND                  3P Land Holdings Limited      BE   \n",
              "\n",
              "   DATE OF LISTING   PAID UP VALUE   MARKET LOT   ISIN NUMBER   FACE VALUE  \n",
              "0      06-OCT-2008             5.0            1  INE144J01027            5  \n",
              "1      03-MAY-1995            10.0            1  INE253B01015           10  \n",
              "2      22-OCT-2021            10.0            1  INE748C01038           10  \n",
              "3      13-AUG-2004            10.0            1  INE470A01017           10  \n",
              "4      19-JUL-1995             2.0            1  INE105C01023            2  "
            ],
            "text/html": [
              "\n",
              "\n",
              "  <div id=\"df-d12bae6c-5758-40dc-8d21-6d3e20ec673b\">\n",
              "    <div class=\"colab-df-container\">\n",
              "      <div>\n",
              "<style scoped>\n",
              "    .dataframe tbody tr th:only-of-type {\n",
              "        vertical-align: middle;\n",
              "    }\n",
              "\n",
              "    .dataframe tbody tr th {\n",
              "        vertical-align: top;\n",
              "    }\n",
              "\n",
              "    .dataframe thead th {\n",
              "        text-align: right;\n",
              "    }\n",
              "</style>\n",
              "<table border=\"1\" class=\"dataframe\">\n",
              "  <thead>\n",
              "    <tr style=\"text-align: right;\">\n",
              "      <th></th>\n",
              "      <th>SYMBOL</th>\n",
              "      <th>NAME OF COMPANY</th>\n",
              "      <th>SERIES</th>\n",
              "      <th>DATE OF LISTING</th>\n",
              "      <th>PAID UP VALUE</th>\n",
              "      <th>MARKET LOT</th>\n",
              "      <th>ISIN NUMBER</th>\n",
              "      <th>FACE VALUE</th>\n",
              "    </tr>\n",
              "  </thead>\n",
              "  <tbody>\n",
              "    <tr>\n",
              "      <th>0</th>\n",
              "      <td>20MICRONS</td>\n",
              "      <td>20 Microns Limited</td>\n",
              "      <td>EQ</td>\n",
              "      <td>06-OCT-2008</td>\n",
              "      <td>5.0</td>\n",
              "      <td>1</td>\n",
              "      <td>INE144J01027</td>\n",
              "      <td>5</td>\n",
              "    </tr>\n",
              "    <tr>\n",
              "      <th>1</th>\n",
              "      <td>21STCENMGM</td>\n",
              "      <td>21st Century Management Services Limited</td>\n",
              "      <td>EQ</td>\n",
              "      <td>03-MAY-1995</td>\n",
              "      <td>10.0</td>\n",
              "      <td>1</td>\n",
              "      <td>INE253B01015</td>\n",
              "      <td>10</td>\n",
              "    </tr>\n",
              "    <tr>\n",
              "      <th>2</th>\n",
              "      <td>3IINFOLTD</td>\n",
              "      <td>3i Infotech Limited</td>\n",
              "      <td>EQ</td>\n",
              "      <td>22-OCT-2021</td>\n",
              "      <td>10.0</td>\n",
              "      <td>1</td>\n",
              "      <td>INE748C01038</td>\n",
              "      <td>10</td>\n",
              "    </tr>\n",
              "    <tr>\n",
              "      <th>3</th>\n",
              "      <td>3MINDIA</td>\n",
              "      <td>3M India Limited</td>\n",
              "      <td>EQ</td>\n",
              "      <td>13-AUG-2004</td>\n",
              "      <td>10.0</td>\n",
              "      <td>1</td>\n",
              "      <td>INE470A01017</td>\n",
              "      <td>10</td>\n",
              "    </tr>\n",
              "    <tr>\n",
              "      <th>4</th>\n",
              "      <td>3PLAND</td>\n",
              "      <td>3P Land Holdings Limited</td>\n",
              "      <td>BE</td>\n",
              "      <td>19-JUL-1995</td>\n",
              "      <td>2.0</td>\n",
              "      <td>1</td>\n",
              "      <td>INE105C01023</td>\n",
              "      <td>2</td>\n",
              "    </tr>\n",
              "  </tbody>\n",
              "</table>\n",
              "</div>\n",
              "      <button class=\"colab-df-convert\" onclick=\"convertToInteractive('df-d12bae6c-5758-40dc-8d21-6d3e20ec673b')\"\n",
              "              title=\"Convert this dataframe to an interactive table.\"\n",
              "              style=\"display:none;\">\n",
              "\n",
              "  <svg xmlns=\"http://www.w3.org/2000/svg\" height=\"24px\"viewBox=\"0 0 24 24\"\n",
              "       width=\"24px\">\n",
              "    <path d=\"M0 0h24v24H0V0z\" fill=\"none\"/>\n",
              "    <path d=\"M18.56 5.44l.94 2.06.94-2.06 2.06-.94-2.06-.94-.94-2.06-.94 2.06-2.06.94zm-11 1L8.5 8.5l.94-2.06 2.06-.94-2.06-.94L8.5 2.5l-.94 2.06-2.06.94zm10 10l.94 2.06.94-2.06 2.06-.94-2.06-.94-.94-2.06-.94 2.06-2.06.94z\"/><path d=\"M17.41 7.96l-1.37-1.37c-.4-.4-.92-.59-1.43-.59-.52 0-1.04.2-1.43.59L10.3 9.45l-7.72 7.72c-.78.78-.78 2.05 0 2.83L4 21.41c.39.39.9.59 1.41.59.51 0 1.02-.2 1.41-.59l7.78-7.78 2.81-2.81c.8-.78.8-2.07 0-2.86zM5.41 20L4 18.59l7.72-7.72 1.47 1.35L5.41 20z\"/>\n",
              "  </svg>\n",
              "      </button>\n",
              "\n",
              "\n",
              "\n",
              "    <div id=\"df-75ec4c93-d4f6-4eb0-9129-87416a7a1e60\">\n",
              "      <button class=\"colab-df-quickchart\" onclick=\"quickchart('df-75ec4c93-d4f6-4eb0-9129-87416a7a1e60')\"\n",
              "              title=\"Suggest charts.\"\n",
              "              style=\"display:none;\">\n",
              "\n",
              "<svg xmlns=\"http://www.w3.org/2000/svg\" height=\"24px\"viewBox=\"0 0 24 24\"\n",
              "     width=\"24px\">\n",
              "    <g>\n",
              "        <path d=\"M19 3H5c-1.1 0-2 .9-2 2v14c0 1.1.9 2 2 2h14c1.1 0 2-.9 2-2V5c0-1.1-.9-2-2-2zM9 17H7v-7h2v7zm4 0h-2V7h2v10zm4 0h-2v-4h2v4z\"/>\n",
              "    </g>\n",
              "</svg>\n",
              "      </button>\n",
              "    </div>\n",
              "\n",
              "<style>\n",
              "  .colab-df-quickchart {\n",
              "    background-color: #E8F0FE;\n",
              "    border: none;\n",
              "    border-radius: 50%;\n",
              "    cursor: pointer;\n",
              "    display: none;\n",
              "    fill: #1967D2;\n",
              "    height: 32px;\n",
              "    padding: 0 0 0 0;\n",
              "    width: 32px;\n",
              "  }\n",
              "\n",
              "  .colab-df-quickchart:hover {\n",
              "    background-color: #E2EBFA;\n",
              "    box-shadow: 0px 1px 2px rgba(60, 64, 67, 0.3), 0px 1px 3px 1px rgba(60, 64, 67, 0.15);\n",
              "    fill: #174EA6;\n",
              "  }\n",
              "\n",
              "  [theme=dark] .colab-df-quickchart {\n",
              "    background-color: #3B4455;\n",
              "    fill: #D2E3FC;\n",
              "  }\n",
              "\n",
              "  [theme=dark] .colab-df-quickchart:hover {\n",
              "    background-color: #434B5C;\n",
              "    box-shadow: 0px 1px 3px 1px rgba(0, 0, 0, 0.15);\n",
              "    filter: drop-shadow(0px 1px 2px rgba(0, 0, 0, 0.3));\n",
              "    fill: #FFFFFF;\n",
              "  }\n",
              "</style>\n",
              "\n",
              "    <script>\n",
              "      async function quickchart(key) {\n",
              "        const containerElement = document.querySelector('#' + key);\n",
              "        const charts = await google.colab.kernel.invokeFunction(\n",
              "            'suggestCharts', [key], {});\n",
              "      }\n",
              "    </script>\n",
              "\n",
              "      <script>\n",
              "\n",
              "function displayQuickchartButton(domScope) {\n",
              "  let quickchartButtonEl =\n",
              "    domScope.querySelector('#df-75ec4c93-d4f6-4eb0-9129-87416a7a1e60 button.colab-df-quickchart');\n",
              "  quickchartButtonEl.style.display =\n",
              "    google.colab.kernel.accessAllowed ? 'block' : 'none';\n",
              "}\n",
              "\n",
              "        displayQuickchartButton(document);\n",
              "      </script>\n",
              "      <style>\n",
              "    .colab-df-container {\n",
              "      display:flex;\n",
              "      flex-wrap:wrap;\n",
              "      gap: 12px;\n",
              "    }\n",
              "\n",
              "    .colab-df-convert {\n",
              "      background-color: #E8F0FE;\n",
              "      border: none;\n",
              "      border-radius: 50%;\n",
              "      cursor: pointer;\n",
              "      display: none;\n",
              "      fill: #1967D2;\n",
              "      height: 32px;\n",
              "      padding: 0 0 0 0;\n",
              "      width: 32px;\n",
              "    }\n",
              "\n",
              "    .colab-df-convert:hover {\n",
              "      background-color: #E2EBFA;\n",
              "      box-shadow: 0px 1px 2px rgba(60, 64, 67, 0.3), 0px 1px 3px 1px rgba(60, 64, 67, 0.15);\n",
              "      fill: #174EA6;\n",
              "    }\n",
              "\n",
              "    [theme=dark] .colab-df-convert {\n",
              "      background-color: #3B4455;\n",
              "      fill: #D2E3FC;\n",
              "    }\n",
              "\n",
              "    [theme=dark] .colab-df-convert:hover {\n",
              "      background-color: #434B5C;\n",
              "      box-shadow: 0px 1px 3px 1px rgba(0, 0, 0, 0.15);\n",
              "      filter: drop-shadow(0px 1px 2px rgba(0, 0, 0, 0.3));\n",
              "      fill: #FFFFFF;\n",
              "    }\n",
              "  </style>\n",
              "\n",
              "      <script>\n",
              "        const buttonEl =\n",
              "          document.querySelector('#df-d12bae6c-5758-40dc-8d21-6d3e20ec673b button.colab-df-convert');\n",
              "        buttonEl.style.display =\n",
              "          google.colab.kernel.accessAllowed ? 'block' : 'none';\n",
              "\n",
              "        async function convertToInteractive(key) {\n",
              "          const element = document.querySelector('#df-d12bae6c-5758-40dc-8d21-6d3e20ec673b');\n",
              "          const dataTable =\n",
              "            await google.colab.kernel.invokeFunction('convertToInteractive',\n",
              "                                                     [key], {});\n",
              "          if (!dataTable) return;\n",
              "\n",
              "          const docLinkHtml = 'Like what you see? Visit the ' +\n",
              "            '<a target=\"_blank\" href=https://colab.research.google.com/notebooks/data_table.ipynb>data table notebook</a>'\n",
              "            + ' to learn more about interactive tables.';\n",
              "          element.innerHTML = '';\n",
              "          dataTable['output_type'] = 'display_data';\n",
              "          await google.colab.output.renderOutput(dataTable, element);\n",
              "          const docLink = document.createElement('div');\n",
              "          docLink.innerHTML = docLinkHtml;\n",
              "          element.appendChild(docLink);\n",
              "        }\n",
              "      </script>\n",
              "    </div>\n",
              "  </div>\n"
            ]
          },
          "metadata": {},
          "execution_count": 72
        }
      ],
      "source": [
        "symbol.head()"
      ]
    },
    {
      "cell_type": "code",
      "execution_count": null,
      "metadata": {
        "id": "ANvu6XKcbArS"
      },
      "outputs": [],
      "source": [
        "symbol=np.array(symbol)"
      ]
    },
    {
      "cell_type": "code",
      "execution_count": null,
      "metadata": {
        "colab": {
          "base_uri": "https://localhost:8080/"
        },
        "id": "I8qTfCcjbArS",
        "outputId": "9a713057-02c8-48a4-fcba-e01bf440be9b"
      },
      "outputs": [
        {
          "output_type": "execute_result",
          "data": {
            "text/plain": [
              "str"
            ]
          },
          "metadata": {},
          "execution_count": 74
        }
      ],
      "source": [
        "type(symbol[0][0])"
      ]
    },
    {
      "cell_type": "code",
      "execution_count": null,
      "metadata": {
        "id": "yxFcGm4GbArT"
      },
      "outputs": [],
      "source": [
        "string=symbol[0][0]"
      ]
    },
    {
      "cell_type": "code",
      "execution_count": null,
      "metadata": {
        "colab": {
          "base_uri": "https://localhost:8080/",
          "height": 36
        },
        "id": "X_VPGwKubArT",
        "outputId": "20768fd4-16a0-4c92-dbd3-87d6437d9f4a"
      },
      "outputs": [
        {
          "output_type": "execute_result",
          "data": {
            "text/plain": [
              "'20MICRONS'"
            ],
            "application/vnd.google.colaboratory.intrinsic+json": {
              "type": "string"
            }
          },
          "metadata": {},
          "execution_count": 76
        }
      ],
      "source": [
        "string"
      ]
    },
    {
      "cell_type": "code",
      "execution_count": null,
      "metadata": {
        "id": "OXlv9uPXbArU"
      },
      "outputs": [],
      "source": [
        "import datetime as dt\n",
        "x=dt.date.today()\n",
        "x=x-dt.timedelta(1)\n",
        "y=x-dt.timedelta(120)"
      ]
    },
    {
      "cell_type": "code",
      "source": [],
      "metadata": {
        "id": "M-9SBUCRcWfH"
      },
      "execution_count": null,
      "outputs": []
    },
    {
      "cell_type": "code",
      "source": [
        "# len(df)"
      ],
      "metadata": {
        "id": "ue5EtQdscRna"
      },
      "execution_count": null,
      "outputs": []
    },
    {
      "cell_type": "code",
      "execution_count": null,
      "metadata": {
        "colab": {
          "base_uri": "https://localhost:8080/"
        },
        "id": "qZ0nmYPhbArV",
        "outputId": "a4621219-eee9-4afc-df85-e2d44e9f632d"
      },
      "outputs": [
        {
          "output_type": "execute_result",
          "data": {
            "text/plain": [
              "datetime.date(2023, 8, 13)"
            ]
          },
          "metadata": {},
          "execution_count": 79
        }
      ],
      "source": [
        "x"
      ]
    },
    {
      "cell_type": "code",
      "execution_count": null,
      "metadata": {
        "colab": {
          "base_uri": "https://localhost:8080/"
        },
        "id": "7_MO3c0EbArV",
        "outputId": "1dc016a0-2c1a-4c60-a46a-5ddf7ac9bf39"
      },
      "outputs": [
        {
          "output_type": "execute_result",
          "data": {
            "text/plain": [
              "1814"
            ]
          },
          "metadata": {},
          "execution_count": 80
        }
      ],
      "source": [
        "(symbol.shape)[0]"
      ]
    },
    {
      "cell_type": "code",
      "execution_count": null,
      "metadata": {
        "id": "K783-RWxbArW"
      },
      "outputs": [],
      "source": [
        "def reverse_hammer(data,i):\n",
        "\n",
        "    open_close=(data[i][3]-data[i][4])/data[i][3]*100\n",
        "    open_close=abs(open_close)\n",
        "\n",
        "    low=(data[i][2]-data[i][3])/data[i][2]*100\n",
        "    low=abs(low)\n",
        "    high=(data[i][1]-data[i][4])/data[i][1]*100\n",
        "    high=abs(high)\n",
        "    # print(open_close,\" \",high,\" \",low)\n",
        "    if(open_close*3<high and low*3<high):\n",
        "        #print(data[i][0])\n",
        "        return(1)\n",
        "    return(-1)\n"
      ]
    },
    {
      "cell_type": "code",
      "execution_count": null,
      "metadata": {
        "id": "2shIEnMAbArW"
      },
      "outputs": [],
      "source": [
        "def hammer(data,i):\n",
        "\n",
        "    open_close=(data[i][3]-data[i][4])/data[i][3]*100\n",
        "    open_close=abs(open_close)\n",
        "\n",
        "    low=(data[i][2]-data[i][3])/data[i][2]*100\n",
        "    low=abs(low)\n",
        "    high=(data[i][1]-data[i][4])/data[i][1]*100\n",
        "    high=abs(high)\n",
        "    # print(open_close,\" \",high,\" \",low)\n",
        "    if(open_close*3<low and high*3<low):\n",
        "        #print(data[i][0])\n",
        "        return(1)\n",
        "    return(-1)"
      ]
    },
    {
      "cell_type": "code",
      "execution_count": null,
      "metadata": {
        "id": "6Gc-anrxbArX"
      },
      "outputs": [],
      "source": [
        "def harebozo(data,i):\n",
        "\n",
        "    open_close=(data[i][3]-data[i][4])/data[i][3]*100\n",
        "    open_close=abs(open_close)\n",
        "\n",
        "    low=(data[i][2]-data[i][3])/data[i][2]*100\n",
        "    low=abs(low)\n",
        "    high=(data[i][1]-data[i][4])/data[i][1]*100\n",
        "    high=abs(high)\n",
        "    # print(open_close,\" \",high,\" \",low)\n",
        "    high_low=(data[i][1]-data[i][2])/data[i][1]*100\n",
        "    high_low=abs(high_low)\n",
        "    if((open_close>high*4 and open_close>low*4) or (open_close>high*5 and data[i][3]>data[i][1]) or(open_close>low*5 and data[i][4]>data[i][2]) ):\n",
        "\n",
        "        #print(data[i][0])\n",
        "        return(1)\n",
        "    return(-1)\n"
      ]
    },
    {
      "cell_type": "code",
      "execution_count": null,
      "metadata": {
        "id": "FjXtPPFIbArX"
      },
      "outputs": [],
      "source": [
        "def spin_top(data,i):\n",
        "\n",
        "    open_close=(data[i][3]-data[i][4])/data[i][3]*100\n",
        "    open_close=abs(open_close)\n",
        "\n",
        "    low=(data[i][2]-data[i][3])/data[i][2]*100\n",
        "    low=abs(low)\n",
        "    high=(data[i][1]-data[i][4])/data[i][1]*100\n",
        "    high=abs(high)\n",
        "    # print(open_close,\" \",high,\" \",low)\n",
        "\n",
        "    if(low>5*open_close and high>5*open_close and abs(high-low)<0.5):\n",
        "        #print(data[i][0])\n",
        "        return(1)\n",
        "    return(-1)\n"
      ]
    },
    {
      "cell_type": "code",
      "execution_count": null,
      "metadata": {
        "id": "F6Tyv11rbArX"
      },
      "outputs": [],
      "source": [
        "def func(data,curr):\n",
        "    temp=curr\n",
        "    dec=0\n",
        "    inc=0\n",
        "    while(curr>temp-5):\n",
        "        if(data[curr][4]<data[curr-1][4]):\n",
        "            dec=dec+1\n",
        "        else:\n",
        "            inc=inc+1\n",
        "        curr=curr-1\n",
        "    return(dec-inc)\n"
      ]
    },
    {
      "cell_type": "code",
      "execution_count": null,
      "metadata": {
        "id": "XhVDFbdxbArX"
      },
      "outputs": [],
      "source": [
        "def check_pattern(data,i):\n",
        "\n",
        "    if(hammer(data,i)==1 or reverse_hammer(data,i)==1 or spin_top(data,i)==1 or harebozo(data,i)==1):\n",
        "         if(func(data,i)>0):\n",
        "             return(1)\n",
        "         else:\n",
        "             return(-1)\n",
        "    return(0)\n"
      ]
    },
    {
      "cell_type": "code",
      "execution_count": null,
      "metadata": {
        "id": "Rp_T50nTbArY"
      },
      "outputs": [],
      "source": [
        "# def get_symbol(string,x,y):\n",
        "#     try:\n",
        "#         df=pdr.get_data_yahoo(string,start=x,end=y)\n",
        "#         return df\n",
        "#     except:\n",
        "#         try:\n",
        "#             df=pdr.get_data_yahoo(string+'.BO',start=x,end=y)\n",
        "#             return df\n",
        "#         except:\n",
        "#             try:\n",
        "#                 df=pdr.get_data_yahoo(string+'.NS',start=x,end=y)\n",
        "#                 return df\n",
        "#             except:\n",
        "#                 df=pdr.get_data_yahoo('RELIANCE.NS',start=x,end=y)\n"
      ]
    },
    {
      "cell_type": "code",
      "source": [
        "def get_symbol(string,x,y):\n",
        "    yfin.pdr_override()\n",
        "    df1=pdr.get_data_yahoo(string,start=x,end=y)\n",
        "    yfin.pdr_override()\n",
        "    df2=pdr.get_data_yahoo(string+'.NS',start=x,end=y)\n",
        "    yfin.pdr_override()\n",
        "    df3=pdr.get_data_yahoo(string+'.BO',start=x,end=y)\n",
        "    if(len(df1)!=0):\n",
        "      df=df1\n",
        "    elif len(df2)!=0:\n",
        "      df=df2\n",
        "    elif len(df3)!=0:\n",
        "      df=df3\n",
        "    return df"
      ],
      "metadata": {
        "id": "6ViF3LMRd41W"
      },
      "execution_count": null,
      "outputs": []
    },
    {
      "cell_type": "code",
      "execution_count": null,
      "metadata": {
        "id": "jXjFXK6DbArY"
      },
      "outputs": [],
      "source": [
        "def piv_high(data,temp):\n",
        "    count=0\n",
        "    sum=0\n",
        "    for i in range(temp-1,temp):\n",
        "        sum=sum+data[i][1]\n",
        "        count=count+1\n",
        "    avg=sum/count\n",
        "    return avg\n"
      ]
    },
    {
      "cell_type": "code",
      "execution_count": null,
      "metadata": {
        "id": "wpOztXQvbArY"
      },
      "outputs": [],
      "source": [
        "def piv_close(data,temp):\n",
        "    count=0\n",
        "    sum=0\n",
        "    for i in range(temp-1,temp):\n",
        "        sum=sum+data[i][4]\n",
        "        count=count+1\n",
        "    avg=sum/count\n",
        "    return avg\n"
      ]
    },
    {
      "cell_type": "code",
      "execution_count": null,
      "metadata": {
        "id": "p94wdIT6bArY"
      },
      "outputs": [],
      "source": [
        "def piv_low(data,temp):\n",
        "    count=0\n",
        "    sum=0\n",
        "    for i in range(temp-1,temp):\n",
        "        sum=sum+data[i][2]\n",
        "        count=count+1\n",
        "    avg=sum/count\n",
        "    return avg\n"
      ]
    },
    {
      "cell_type": "code",
      "execution_count": null,
      "metadata": {
        "id": "AtheYHMabArZ"
      },
      "outputs": [],
      "source": [
        "file=open('suggest.txt','w')\n",
        "file.close()"
      ]
    },
    {
      "cell_type": "code",
      "execution_count": null,
      "metadata": {
        "colab": {
          "base_uri": "https://localhost:8080/"
        },
        "id": "7NmPxSJObArZ",
        "outputId": "b72da8fe-8d6c-44f0-94a3-a523df39e3ff"
      },
      "outputs": [
        {
          "output_type": "execute_result",
          "data": {
            "text/plain": [
              "1814"
            ]
          },
          "metadata": {},
          "execution_count": 93
        }
      ],
      "source": [
        "len(symbol)"
      ]
    },
    {
      "cell_type": "code",
      "execution_count": null,
      "metadata": {
        "colab": {
          "base_uri": "https://localhost:8080/"
        },
        "id": "s8pgTaUebArZ",
        "outputId": "0fbd100b-be2c-48c0-e604-7a304fd7d80a"
      },
      "outputs": [
        {
          "output_type": "stream",
          "name": "stdout",
          "text": [
            "Index= 1000\n",
            "\r[*********************100%***********************]  1 of 1 completed"
          ]
        },
        {
          "output_type": "stream",
          "name": "stderr",
          "text": [
            "ERROR:yfinance:\n",
            "1 Failed download:\n",
            "ERROR:yfinance:['MAXIND']: Exception('%ticker%: No timezone found, symbol may be delisted')\n"
          ]
        },
        {
          "output_type": "stream",
          "name": "stdout",
          "text": [
            "\n",
            "[*********************100%***********************]  1 of 1 completed\n",
            "[*********************100%***********************]  1 of 1 completed"
          ]
        },
        {
          "output_type": "stream",
          "name": "stderr",
          "text": [
            "ERROR:yfinance:\n",
            "1 Failed download:\n",
            "ERROR:yfinance:['MAXIND.BO']: Exception('%ticker%: No timezone found, symbol may be delisted')\n"
          ]
        },
        {
          "output_type": "stream",
          "name": "stdout",
          "text": [
            "\n",
            "        Date       Open       High        Low      Close  Adj Close  Volume\n",
            "0 2023-04-17  82.800003  83.500000  81.099998  82.400002  82.400002   54007\n",
            "1 2023-04-18  83.099998  83.349998  82.000000  82.300003  82.300003   31833\n",
            "\n",
            "\n",
            "check= 0\n",
            "i= 1000\n",
            "check= 0\n",
            "Index= 1001\n",
            "[*********************100%***********************]  1 of 1 completed"
          ]
        },
        {
          "output_type": "stream",
          "name": "stderr",
          "text": [
            "ERROR:yfinance:\n",
            "1 Failed download:\n",
            "ERROR:yfinance:['MAXVIL']: Exception('%ticker%: No timezone found, symbol may be delisted')\n"
          ]
        },
        {
          "output_type": "stream",
          "name": "stdout",
          "text": [
            "\n",
            "[*********************100%***********************]  1 of 1 completed\n",
            "[*********************100%***********************]  1 of 1 completed\n",
            "        Date        Open        High         Low       Close   Adj Close  \\\n",
            "0 2023-04-17  170.699997  178.750000  168.500000  176.600006  176.600006   \n",
            "1 2023-04-18  175.000000  179.699997  169.350006  170.199997  170.199997   \n",
            "\n",
            "   Volume  \n",
            "0  143461  \n",
            "1   71273  \n",
            "\n",
            "\n",
            "check= 0\n",
            "i= 1001\n",
            "check= 0\n",
            "Index= 1002\n",
            "[*********************100%***********************]  1 of 1 completed"
          ]
        },
        {
          "output_type": "stream",
          "name": "stderr",
          "text": [
            "ERROR:yfinance:\n",
            "1 Failed download:\n",
            "ERROR:yfinance:['MAYURUNIQ']: Exception('%ticker%: No timezone found, symbol may be delisted')\n"
          ]
        },
        {
          "output_type": "stream",
          "name": "stdout",
          "text": [
            "\n",
            "[*********************100%***********************]  1 of 1 completed\n",
            "[*********************100%***********************]  1 of 1 completed\n",
            "        Date   Open        High         Low       Close   Adj Close  Volume\n",
            "0 2023-04-17  473.0  477.649994  462.049988  468.649994  468.649994   36343\n",
            "1 2023-04-18  470.0  480.000000  468.450012  477.799988  477.799988   57448\n",
            "\n",
            "\n",
            "check= 1\n",
            "i= 1002\n",
            "check= 1\n",
            "Company name= Mayur Uniquoters Ltd\n",
            "Suggestion=Buy stock\n",
            "Entry price= 512.55\n",
            "Target price1= 510.0333251953125\n",
            "Target price2= 514.5166625976562\n",
            "Stop loss 783.43\n",
            "Index= 1003\n",
            "[*********************100%***********************]  1 of 1 completed"
          ]
        },
        {
          "output_type": "stream",
          "name": "stderr",
          "text": [
            "ERROR:yfinance:\n",
            "1 Failed download:\n",
            "ERROR:yfinance:['MAZDA']: Exception('%ticker%: No timezone found, symbol may be delisted')\n"
          ]
        },
        {
          "output_type": "stream",
          "name": "stdout",
          "text": [
            "\n",
            "[*********************100%***********************]  1 of 1 completed\n",
            "[*********************100%***********************]  1 of 1 completed"
          ]
        },
        {
          "output_type": "stream",
          "name": "stderr",
          "text": [
            "ERROR:yfinance:\n",
            "1 Failed download:\n",
            "ERROR:yfinance:['MAZDA.BO']: Exception('%ticker%: No timezone found, symbol may be delisted')\n"
          ]
        },
        {
          "output_type": "stream",
          "name": "stdout",
          "text": [
            "\n",
            "        Date        Open   High         Low       Close   Adj Close  Volume\n",
            "0 2023-04-17  645.700012  665.0  641.450012  659.450012  659.450012    6610\n",
            "1 2023-04-18  664.000000  669.0  646.000000  655.650024  655.650024    2353\n",
            "\n",
            "\n",
            "check= 0\n",
            "i= 1003\n",
            "check= 0\n",
            "Index= 1004\n",
            "[*********************100%***********************]  1 of 1 completed"
          ]
        },
        {
          "output_type": "stream",
          "name": "stderr",
          "text": [
            "ERROR:yfinance:\n",
            "1 Failed download:\n",
            "ERROR:yfinance:['MAZDOCK']: Exception('%ticker%: No timezone found, symbol may be delisted')\n"
          ]
        },
        {
          "output_type": "stream",
          "name": "stdout",
          "text": [
            "\n",
            "[*********************100%***********************]  1 of 1 completed\n",
            "[*********************100%***********************]  1 of 1 completed\n",
            "        Date        Open        High         Low       Close   Adj Close  \\\n",
            "0 2023-04-17  701.349976  723.000000  695.200012  718.450012  718.450012   \n",
            "1 2023-04-18  718.000000  726.799988  714.000000  716.200012  716.200012   \n",
            "\n",
            "   Volume  \n",
            "0  975845  \n",
            "1  603489  \n",
            "\n",
            "\n",
            "check= 0\n",
            "i= 1004\n",
            "check= 0\n",
            "Index= 1005\n",
            "[*********************100%***********************]  1 of 1 completed"
          ]
        },
        {
          "output_type": "stream",
          "name": "stderr",
          "text": [
            "ERROR:yfinance:\n",
            "1 Failed download:\n",
            "ERROR:yfinance:['MBAPL']: Exception('%ticker%: No timezone found, symbol may be delisted')\n"
          ]
        },
        {
          "output_type": "stream",
          "name": "stdout",
          "text": [
            "\n",
            "[*********************100%***********************]  1 of 1 completed\n",
            "[*********************100%***********************]  1 of 1 completed"
          ]
        },
        {
          "output_type": "stream",
          "name": "stderr",
          "text": [
            "ERROR:yfinance:\n",
            "1 Failed download:\n",
            "ERROR:yfinance:['MBAPL.BO']: Exception('%ticker%: No timezone found, symbol may be delisted')\n"
          ]
        },
        {
          "output_type": "stream",
          "name": "stdout",
          "text": [
            "\n",
            "        Date        Open        High         Low       Close   Adj Close  \\\n",
            "0 2023-04-17  602.700012  612.250000  589.599976  606.000000  606.000000   \n",
            "1 2023-04-18  614.900024  614.900024  580.599976  583.849976  583.849976   \n",
            "\n",
            "   Volume  \n",
            "0    7004  \n",
            "1   14398  \n",
            "\n",
            "\n",
            "check= 0\n",
            "i= 1005\n",
            "check= 0\n",
            "Index= 1006\n",
            "[*********************100%***********************]  1 of 1 completed"
          ]
        },
        {
          "output_type": "stream",
          "name": "stderr",
          "text": [
            "ERROR:yfinance:\n",
            "1 Failed download:\n",
            "ERROR:yfinance:['MBECL']: Exception('%ticker%: No timezone found, symbol may be delisted')\n"
          ]
        },
        {
          "output_type": "stream",
          "name": "stdout",
          "text": [
            "\n",
            "[*********************100%***********************]  1 of 1 completed\n",
            "[*********************100%***********************]  1 of 1 completed\n",
            "        Date  Open  High  Low  Close  Adj Close  Volume\n",
            "0 2023-04-17   4.3   4.3  4.3    4.3        4.3       0\n",
            "1 2023-04-18   4.3   4.3  4.3    4.3        4.3       0\n",
            "\n",
            "\n",
            "check= 0\n",
            "i= 1006\n",
            "check= 0\n",
            "Index= 1007\n",
            "[*********************100%***********************]  1 of 1 completed"
          ]
        },
        {
          "output_type": "stream",
          "name": "stderr",
          "text": [
            "ERROR:yfinance:\n",
            "1 Failed download:\n",
            "ERROR:yfinance:['MBLINFRA']: Exception('%ticker%: No timezone found, symbol may be delisted')\n"
          ]
        },
        {
          "output_type": "stream",
          "name": "stdout",
          "text": [
            "\n",
            "[*********************100%***********************]  1 of 1 completed\n",
            "[*********************100%***********************]  1 of 1 completed\n",
            "        Date       Open       High        Low      Close  Adj Close  Volume\n",
            "0 2023-04-17  18.049999  18.799999  17.549999  18.250000  18.250000   70663\n",
            "1 2023-04-18  18.000000  18.900000  17.650000  18.549999  18.549999   59371\n",
            "\n",
            "\n",
            "check= 0\n",
            "i= 1007\n",
            "check= 0\n",
            "Index= 1008\n",
            "[*********************100%***********************]  1 of 1 completed"
          ]
        },
        {
          "output_type": "stream",
          "name": "stderr",
          "text": [
            "ERROR:yfinance:\n",
            "1 Failed download:\n",
            "ERROR:yfinance:['MCDHOLDING']: Exception('%ticker%: No timezone found, symbol may be delisted')\n"
          ]
        },
        {
          "output_type": "stream",
          "name": "stdout",
          "text": [
            "\n",
            "[*********************100%***********************]  1 of 1 completed\n",
            "[*********************100%***********************]  1 of 1 completed"
          ]
        },
        {
          "output_type": "stream",
          "name": "stderr",
          "text": [
            "ERROR:yfinance:\n",
            "1 Failed download:\n",
            "ERROR:yfinance:['MCDHOLDING.BO']: Exception('%ticker%: No timezone found, symbol may be delisted')\n"
          ]
        },
        {
          "output_type": "stream",
          "name": "stdout",
          "text": [
            "\n",
            "        Date   Open   High    Low  Close  Adj Close  Volume\n",
            "0 2023-04-17  68.75  68.75  68.75  68.75      68.75       0\n",
            "1 2023-04-18  68.75  68.75  68.75  68.75      68.75       0\n",
            "\n",
            "\n",
            "check= 0\n",
            "i= 1008\n",
            "check= 0\n",
            "Index= 1009\n",
            "[*********************100%***********************]  1 of 1 completed"
          ]
        },
        {
          "output_type": "stream",
          "name": "stderr",
          "text": [
            "ERROR:yfinance:\n",
            "1 Failed download:\n",
            "ERROR:yfinance:['MCDOWELL-N']: Exception('%ticker%: No timezone found, symbol may be delisted')\n"
          ]
        },
        {
          "output_type": "stream",
          "name": "stdout",
          "text": [
            "\n",
            "[*********************100%***********************]  1 of 1 completed\n",
            "[*********************100%***********************]  1 of 1 completed"
          ]
        },
        {
          "output_type": "stream",
          "name": "stderr",
          "text": [
            "ERROR:yfinance:\n",
            "1 Failed download:\n",
            "ERROR:yfinance:['MCDOWELL-N.BO']: Exception('%ticker%: No timezone found, symbol may be delisted')\n"
          ]
        },
        {
          "output_type": "stream",
          "name": "stdout",
          "text": [
            "\n",
            "        Date        Open        High    Low       Close   Adj Close   Volume\n",
            "0 2023-04-17  764.849976  769.599976  759.5  765.450012  765.450012   771167\n",
            "1 2023-04-18  768.700012  785.450012  762.0  775.000000  775.000000  1410292\n",
            "\n",
            "\n",
            "check= 0\n",
            "i= 1009\n",
            "check= 0\n",
            "Index= 1010\n",
            "[*********************100%***********************]  1 of 1 completed"
          ]
        },
        {
          "output_type": "stream",
          "name": "stderr",
          "text": [
            "ERROR:yfinance:\n",
            "1 Failed download:\n",
            "ERROR:yfinance:['MCL']: Exception('%ticker%: No price data found, symbol may be delisted (1d 2023-04-15 -> 2023-08-13)')\n"
          ]
        },
        {
          "output_type": "stream",
          "name": "stdout",
          "text": [
            "\n",
            "[*********************100%***********************]  1 of 1 completed\n",
            "[*********************100%***********************]  1 of 1 completed"
          ]
        },
        {
          "output_type": "stream",
          "name": "stderr",
          "text": [
            "ERROR:yfinance:\n",
            "1 Failed download:\n",
            "ERROR:yfinance:['MCL.BO']: Exception('%ticker%: No timezone found, symbol may be delisted')\n"
          ]
        },
        {
          "output_type": "stream",
          "name": "stdout",
          "text": [
            "\n",
            "        Date       Open       High        Low      Close  Adj Close  Volume\n",
            "0 2023-04-17  33.200001  33.200001  29.450001  30.299999  30.299999   66822\n",
            "1 2023-04-18  30.299999  32.400002  30.299999  31.150000  31.150000   48521\n",
            "\n",
            "\n",
            "check= 0\n",
            "i= 1010\n",
            "check= 0\n",
            "Index= 1011\n",
            "[*********************100%***********************]  1 of 1 completed"
          ]
        },
        {
          "output_type": "stream",
          "name": "stderr",
          "text": [
            "ERROR:yfinance:\n",
            "1 Failed download:\n",
            "ERROR:yfinance:['MCLEODRUSS']: Exception('%ticker%: No timezone found, symbol may be delisted')\n"
          ]
        },
        {
          "output_type": "stream",
          "name": "stdout",
          "text": [
            "\n",
            "[*********************100%***********************]  1 of 1 completed\n",
            "[*********************100%***********************]  1 of 1 completed\n",
            "        Date       Open       High        Low      Close  Adj Close  Volume\n",
            "0 2023-04-17  19.200001  19.850000  18.950001  19.850000  19.850000  199348\n",
            "1 2023-04-18  20.799999  20.799999  20.250000  20.799999  20.799999  196612\n",
            "\n",
            "\n",
            "check= 0\n",
            "i= 1011\n",
            "check= 0\n",
            "Index= 1012\n",
            "[*********************100%***********************]  1 of 1 completed"
          ]
        },
        {
          "output_type": "stream",
          "name": "stderr",
          "text": [
            "ERROR:yfinance:\n",
            "1 Failed download:\n",
            "ERROR:yfinance:['MCX']: Exception('%ticker%: No price data found, symbol may be delisted (1d 2023-04-15 -> 2023-08-13)')\n"
          ]
        },
        {
          "output_type": "stream",
          "name": "stdout",
          "text": [
            "\n",
            "[*********************100%***********************]  1 of 1 completed\n",
            "[*********************100%***********************]  1 of 1 completed\n",
            "        Date         Open         High          Low        Close    Adj Close  \\\n",
            "0 2023-04-17  1467.000000  1478.599976  1457.199951  1474.650024  1474.650024   \n",
            "1 2023-04-18  1476.300049  1492.050049  1446.000000  1450.500000  1450.500000   \n",
            "\n",
            "   Volume  \n",
            "0  189067  \n",
            "1  181274  \n",
            "\n",
            "\n",
            "check= 0\n",
            "i= 1012\n",
            "check= 0\n",
            "Index= 1013\n",
            "[*********************100%***********************]  1 of 1 completed"
          ]
        },
        {
          "output_type": "stream",
          "name": "stderr",
          "text": [
            "ERROR:yfinance:\n",
            "1 Failed download:\n",
            "ERROR:yfinance:['MEDICAMEQ']: Exception('%ticker%: No timezone found, symbol may be delisted')\n"
          ]
        },
        {
          "output_type": "stream",
          "name": "stdout",
          "text": [
            "\n",
            "[*********************100%***********************]  1 of 1 completed\n",
            "[*********************100%***********************]  1 of 1 completed\n",
            "        Date        Open        High         Low       Close   Adj Close  \\\n",
            "0 2023-04-17  714.349976  729.799988  710.450012  721.299988  721.299988   \n",
            "1 2023-04-18  727.900024  775.000000  724.849976  761.900024  761.900024   \n",
            "\n",
            "   Volume  \n",
            "0    6409  \n",
            "1   26649  \n",
            "\n",
            "\n",
            "check= 0\n",
            "i= 1013\n",
            "check= 0\n",
            "Index= 1014\n",
            "[*********************100%***********************]  1 of 1 completed"
          ]
        },
        {
          "output_type": "stream",
          "name": "stderr",
          "text": [
            "ERROR:yfinance:\n",
            "1 Failed download:\n",
            "ERROR:yfinance:['MEDPLUS']: Exception('%ticker%: No timezone found, symbol may be delisted')\n"
          ]
        },
        {
          "output_type": "stream",
          "name": "stdout",
          "text": [
            "\n",
            "[*********************100%***********************]  1 of 1 completed\n",
            "[*********************100%***********************]  1 of 1 completed\n",
            "        Date   Open        High         Low       Close   Adj Close  Volume\n",
            "0 2023-04-17  715.0  732.049988  711.049988  728.349976  728.349976   71495\n",
            "1 2023-04-18  734.0  742.200012  725.000000  734.099976  734.099976   45277\n",
            "\n",
            "\n",
            "check= 0\n",
            "i= 1014\n",
            "check= 0\n",
            "Index= 1015\n",
            "[*********************100%***********************]  1 of 1 completed"
          ]
        },
        {
          "output_type": "stream",
          "name": "stderr",
          "text": [
            "ERROR:yfinance:\n",
            "1 Failed download:\n",
            "ERROR:yfinance:['MEGASOFT']: Exception('%ticker%: No timezone found, symbol may be delisted')\n"
          ]
        },
        {
          "output_type": "stream",
          "name": "stdout",
          "text": [
            "\n",
            "[*********************100%***********************]  1 of 1 completed\n",
            "[*********************100%***********************]  1 of 1 completed\n",
            "        Date  Open       High        Low      Close  Adj Close  Volume\n",
            "0 2023-04-17  31.9  32.650002  30.299999  30.950001  30.950001  125411\n",
            "1 2023-04-18  30.5  32.599998  30.049999  30.700001  30.700001  133989\n",
            "\n",
            "\n",
            "check= 0\n",
            "i= 1015\n",
            "check= 0\n",
            "Index= 1016\n",
            "[*********************100%***********************]  1 of 1 completed"
          ]
        },
        {
          "output_type": "stream",
          "name": "stderr",
          "text": [
            "ERROR:yfinance:\n",
            "1 Failed download:\n",
            "ERROR:yfinance:['MEGASTAR']: Exception('%ticker%: No timezone found, symbol may be delisted')\n"
          ]
        },
        {
          "output_type": "stream",
          "name": "stdout",
          "text": [
            "\n",
            "[*********************100%***********************]  1 of 1 completed\n",
            "[*********************100%***********************]  1 of 1 completed\n",
            "        Date   Open        High         Low       Close   Adj Close  Volume\n",
            "0 2023-04-17  227.0  233.699997  226.350006  231.600006  231.600006    4559\n",
            "1 2023-04-18  250.0  250.000000  232.050003  234.949997  234.949997    5486\n",
            "\n",
            "\n",
            "check= -1\n",
            "i= 1016\n",
            "check= -1\n",
            "Company name= Megastar Foods Limited\n",
            "Suggestion=Sell stock\n",
            "Target price1= 296.0\n",
            "Target price2= 296.0\n",
            "Stop loss 783.43\n",
            "Index= 1017\n",
            "[*********************100%***********************]  1 of 1 completed"
          ]
        },
        {
          "output_type": "stream",
          "name": "stderr",
          "text": [
            "ERROR:yfinance:\n",
            "1 Failed download:\n",
            "ERROR:yfinance:['MELSTAR']: Exception('%ticker%: No timezone found, symbol may be delisted')\n"
          ]
        },
        {
          "output_type": "stream",
          "name": "stdout",
          "text": [
            "\n",
            "[*********************100%***********************]  1 of 1 completed\n",
            "[*********************100%***********************]  1 of 1 completed\n",
            "        Date  Open  High   Low  Close  Adj Close  Volume\n",
            "0 2023-04-17  2.15  2.35  2.15   2.35       2.35     825\n",
            "1 2023-04-18  2.35  2.45  2.35   2.40       2.40     937\n",
            "\n",
            "\n",
            "check= -1\n",
            "i= 1017\n",
            "check= -1\n",
            "Company name= Melstar Information Technologies Limited\n",
            "Suggestion=Sell stock\n",
            "Target price1= 1.883333365122477\n",
            "Target price2= 1.8166666825612385\n",
            "Stop loss 783.43\n",
            "Index= 1018\n",
            "[*********************100%***********************]  1 of 1 completed"
          ]
        },
        {
          "output_type": "stream",
          "name": "stderr",
          "text": [
            "ERROR:yfinance:\n",
            "1 Failed download:\n",
            "ERROR:yfinance:['MENONBE']: Exception('%ticker%: No timezone found, symbol may be delisted')\n"
          ]
        },
        {
          "output_type": "stream",
          "name": "stdout",
          "text": [
            "\n",
            "[*********************100%***********************]  1 of 1 completed\n",
            "[*********************100%***********************]  1 of 1 completed\n",
            "        Date        Open        High     Low       Close   Adj Close  Volume\n",
            "0 2023-04-17  102.949997  104.000000  102.50  103.400002  101.633484   19665\n",
            "1 2023-04-18  104.000000  107.849998  102.25  104.199997  102.419815   99852\n",
            "\n",
            "\n",
            "check= -1\n",
            "i= 1018\n",
            "check= -1\n",
            "Company name= Menon Bearings Limited\n",
            "Suggestion=Sell stock\n",
            "Target price1= 134.26666768391925\n",
            "Target price2= 132.23333231608072\n",
            "Stop loss 783.43\n",
            "Index= 1019\n",
            "[*********************100%***********************]  1 of 1 completed"
          ]
        },
        {
          "output_type": "stream",
          "name": "stderr",
          "text": [
            "ERROR:yfinance:\n",
            "1 Failed download:\n",
            "ERROR:yfinance:['MEP']: Exception('%ticker%: No price data found, symbol may be delisted (1d 2023-04-15 -> 2023-08-13)')\n"
          ]
        },
        {
          "output_type": "stream",
          "name": "stdout",
          "text": [
            "\n",
            "[*********************100%***********************]  1 of 1 completed\n",
            "[*********************100%***********************]  1 of 1 completed\n",
            "        Date   Open  High    Low  Close  Adj Close   Volume\n",
            "0 2023-04-17  14.10  14.7  14.10  14.45      14.45   208637\n",
            "1 2023-04-18  14.35  15.0  14.35  14.65      14.65  1071300\n",
            "\n",
            "\n",
            "check= 0\n",
            "i= 1019\n",
            "check= 0\n",
            "Index= 1020\n",
            "[*********************100%***********************]  1 of 1 completed"
          ]
        },
        {
          "output_type": "stream",
          "name": "stderr",
          "text": [
            "ERROR:yfinance:\n",
            "1 Failed download:\n",
            "ERROR:yfinance:['MERCATOR']: Exception('%ticker%: No timezone found, symbol may be delisted')\n"
          ]
        },
        {
          "output_type": "stream",
          "name": "stdout",
          "text": [
            "\n",
            "[*********************100%***********************]  1 of 1 completed\n",
            "[*********************100%***********************]  1 of 1 completed"
          ]
        },
        {
          "output_type": "stream",
          "name": "stderr",
          "text": [
            "ERROR:yfinance:\n",
            "1 Failed download:\n",
            "ERROR:yfinance:['MERCATOR.BO']: Exception('%ticker%: No timezone found, symbol may be delisted')\n"
          ]
        },
        {
          "output_type": "stream",
          "name": "stdout",
          "text": [
            "\n",
            "        Date  Open  High   Low  Close  Adj Close  Volume\n",
            "0 2023-04-17  0.85  0.85  0.85   0.85       0.85       0\n",
            "1 2023-04-18  0.85  0.85  0.85   0.85       0.85       0\n",
            "\n",
            "\n",
            "check= 0\n",
            "i= 1020\n",
            "check= 0\n",
            "Index= 1021\n",
            "[*********************100%***********************]  1 of 1 completed"
          ]
        },
        {
          "output_type": "stream",
          "name": "stderr",
          "text": [
            "ERROR:yfinance:\n",
            "1 Failed download:\n",
            "ERROR:yfinance:['METALFORGE']: Exception('%ticker%: No timezone found, symbol may be delisted')\n"
          ]
        },
        {
          "output_type": "stream",
          "name": "stdout",
          "text": [
            "\n",
            "[*********************100%***********************]  1 of 1 completed\n",
            "[*********************100%***********************]  1 of 1 completed\n",
            "        Date  Open  High  Low  Close  Adj Close  Volume\n",
            "0 2023-04-17  3.15  3.15  3.0   3.15       3.15    6587\n",
            "1 2023-04-18  3.10  3.30  3.1   3.30       3.30    6421\n",
            "\n",
            "\n",
            "check= 0\n",
            "i= 1021\n",
            "check= 0\n",
            "Index= 1022\n",
            "[*********************100%***********************]  1 of 1 completed"
          ]
        },
        {
          "output_type": "stream",
          "name": "stderr",
          "text": [
            "ERROR:yfinance:\n",
            "1 Failed download:\n",
            "ERROR:yfinance:['METROBRAND']: Exception('%ticker%: No timezone found, symbol may be delisted')\n"
          ]
        },
        {
          "output_type": "stream",
          "name": "stdout",
          "text": [
            "\n",
            "[*********************100%***********************]  1 of 1 completed\n",
            "[*********************100%***********************]  1 of 1 completed\n",
            "        Date        Open        High         Low       Close   Adj Close  \\\n",
            "0 2023-04-17  800.400024  818.000000  796.549988  812.950012  812.950012   \n",
            "1 2023-04-18  813.000000  824.200012  796.599976  800.900024  800.900024   \n",
            "\n",
            "   Volume  \n",
            "0   65023  \n",
            "1   71726  \n",
            "\n",
            "\n",
            "check= 1\n",
            "i= 1022\n",
            "check= 1\n",
            "Company name= Metro Brands Limited\n",
            "Suggestion=Buy stock\n",
            "Entry price= 1075.9529754638672\n",
            "Target price1= 1069.750040690104\n",
            "Target price2= 1071.9500325520833\n",
            "Stop loss 783.43\n",
            "Index= 1023\n",
            "[*********************100%***********************]  1 of 1 completed"
          ]
        },
        {
          "output_type": "stream",
          "name": "stderr",
          "text": [
            "ERROR:yfinance:\n",
            "1 Failed download:\n",
            "ERROR:yfinance:['METROPOLIS']: Exception('%ticker%: No timezone found, symbol may be delisted')\n"
          ]
        },
        {
          "output_type": "stream",
          "name": "stdout",
          "text": [
            "\n",
            "[*********************100%***********************]  1 of 1 completed\n",
            "[*********************100%***********************]  1 of 1 completed\n",
            "        Date         Open         High          Low        Close    Adj Close  \\\n",
            "0 2023-04-17  1288.949951  1297.199951  1264.599976  1288.550049  1288.550049   \n",
            "1 2023-04-18  1286.000000  1308.449951  1276.150024  1295.449951  1295.449951   \n",
            "\n",
            "   Volume  \n",
            "0  112487  \n",
            "1  177567  \n",
            "\n",
            "\n",
            "check= 0\n",
            "i= 1023\n",
            "check= 0\n",
            "Index= 1024\n",
            "[*********************100%***********************]  1 of 1 completed"
          ]
        },
        {
          "output_type": "stream",
          "name": "stderr",
          "text": [
            "ERROR:yfinance:\n",
            "1 Failed download:\n",
            "ERROR:yfinance:['MFL']: Exception('%ticker%: No timezone found, symbol may be delisted')\n"
          ]
        },
        {
          "output_type": "stream",
          "name": "stdout",
          "text": [
            "\n",
            "[*********************100%***********************]  1 of 1 completed\n",
            "[*********************100%***********************]  1 of 1 completed\n",
            "        Date         Open         High          Low        Close    Adj Close  \\\n",
            "0 2023-04-17  1014.950012  1108.900024  1010.400024  1074.349976  1072.024536   \n",
            "1 2023-04-18  1074.400024  1100.550049  1058.099976  1067.650024  1065.339111   \n",
            "\n",
            "   Volume  \n",
            "0  248534  \n",
            "1   57237  \n",
            "\n",
            "\n",
            "check= 0\n",
            "i= 1024\n",
            "check= 0\n",
            "Index= 1025\n",
            "[*********************100%***********************]  1 of 1 completed"
          ]
        },
        {
          "output_type": "stream",
          "name": "stderr",
          "text": [
            "ERROR:yfinance:\n",
            "1 Failed download:\n",
            "ERROR:yfinance:['MFSL']: Exception('%ticker%: No timezone found, symbol may be delisted')\n"
          ]
        },
        {
          "output_type": "stream",
          "name": "stdout",
          "text": [
            "\n",
            "[*********************100%***********************]  1 of 1 completed\n",
            "[*********************100%***********************]  1 of 1 completed\n",
            "        Date        Open   High         Low       Close   Adj Close  Volume\n",
            "0 2023-04-17  629.000000  640.0  621.299988  637.500000  637.500000  340781\n",
            "1 2023-04-18  639.799988  652.0  632.799988  649.900024  649.900024  685032\n",
            "\n",
            "\n",
            "check= 0\n",
            "i= 1025\n",
            "check= 0\n",
            "Index= 1026\n",
            "[*********************100%***********************]  1 of 1 completed"
          ]
        },
        {
          "output_type": "stream",
          "name": "stderr",
          "text": [
            "ERROR:yfinance:\n",
            "1 Failed download:\n",
            "ERROR:yfinance:['MGEL']: Exception('%ticker%: No timezone found, symbol may be delisted')\n"
          ]
        },
        {
          "output_type": "stream",
          "name": "stdout",
          "text": [
            "\n",
            "[*********************100%***********************]  1 of 1 completed\n",
            "[*********************100%***********************]  1 of 1 completed"
          ]
        },
        {
          "output_type": "stream",
          "name": "stderr",
          "text": [
            "ERROR:yfinance:\n",
            "1 Failed download:\n",
            "ERROR:yfinance:['MGEL.BO']: Exception('%ticker%: No timezone found, symbol may be delisted')\n"
          ]
        },
        {
          "output_type": "stream",
          "name": "stdout",
          "text": [
            "\n",
            "        Date       Open       High        Low  Close  Adj Close  Volume\n",
            "0 2023-04-17  21.150000  21.150000  19.799999  21.15  21.126947  385867\n",
            "1 2023-04-18  21.700001  22.200001  21.200001  22.00  21.976021  354367\n",
            "\n",
            "\n",
            "check= 0\n",
            "i= 1026\n",
            "check= 0\n",
            "Index= 1027\n",
            "[*********************100%***********************]  1 of 1 completed"
          ]
        },
        {
          "output_type": "stream",
          "name": "stderr",
          "text": [
            "ERROR:yfinance:\n",
            "1 Failed download:\n",
            "ERROR:yfinance:['MGL']: Exception('%ticker%: No price data found, symbol may be delisted (1d 2023-04-15 -> 2023-08-13)')\n"
          ]
        },
        {
          "output_type": "stream",
          "name": "stdout",
          "text": [
            "\n",
            "[*********************100%***********************]  1 of 1 completed\n",
            "[*********************100%***********************]  1 of 1 completed\n",
            "        Date         Open    High          Low        Close    Adj Close  \\\n",
            "0 2023-04-17   982.000000  1015.0   982.000000  1013.849976   997.806458   \n",
            "1 2023-04-18  1007.799988  1035.0  1004.400024  1018.000000  1001.890808   \n",
            "\n",
            "    Volume  \n",
            "0   655253  \n",
            "1  1038085  \n",
            "\n",
            "\n",
            "check= 0\n",
            "i= 1027\n",
            "check= 0\n",
            "Index= 1028\n",
            "[*********************100%***********************]  1 of 1 completed"
          ]
        },
        {
          "output_type": "stream",
          "name": "stderr",
          "text": [
            "ERROR:yfinance:\n",
            "1 Failed download:\n",
            "ERROR:yfinance:['MHLXMIRU']: Exception('%ticker%: No timezone found, symbol may be delisted')\n"
          ]
        },
        {
          "output_type": "stream",
          "name": "stdout",
          "text": [
            "\n",
            "[*********************100%***********************]  1 of 1 completed\n",
            "[*********************100%***********************]  1 of 1 completed\n",
            "        Date        Open        High         Low       Close   Adj Close  \\\n",
            "0 2023-04-17  300.000000  300.250000  287.850006  290.149994  290.149994   \n",
            "1 2023-04-18  287.049988  295.700012  286.299988  290.500000  290.500000   \n",
            "\n",
            "   Volume  \n",
            "0   49128  \n",
            "1   54650  \n",
            "\n",
            "\n",
            "check= 1\n",
            "i= 1028\n",
            "check= 1\n",
            "Company name= Mahalaxmi Rubtech Limited\n",
            "Suggestion=Buy stock\n",
            "Entry price= 159.795\n",
            "Target price1= 161.98333231608075\n",
            "Target price2= 161.71666463216147\n",
            "Stop loss 783.43\n",
            "Index= 1029\n",
            "[*********************100%***********************]  1 of 1 completed"
          ]
        },
        {
          "output_type": "stream",
          "name": "stderr",
          "text": [
            "ERROR:yfinance:\n",
            "1 Failed download:\n",
            "ERROR:yfinance:['MHRIL']: Exception('%ticker%: No timezone found, symbol may be delisted')\n"
          ]
        },
        {
          "output_type": "stream",
          "name": "stdout",
          "text": [
            "\n",
            "[*********************100%***********************]  1 of 1 completed\n",
            "[*********************100%***********************]  1 of 1 completed\n",
            "        Date        Open        High         Low       Close   Adj Close  \\\n",
            "0 2023-04-17  291.500000  297.399994  289.850006  293.850006  293.850006   \n",
            "1 2023-04-18  293.899994  295.000000  288.100006  292.799988  292.799988   \n",
            "\n",
            "   Volume  \n",
            "0  244093  \n",
            "1  107324  \n",
            "\n",
            "\n",
            "check= 0\n",
            "i= 1029\n",
            "check= 0\n",
            "Index= 1030\n",
            "[*********************100%***********************]  1 of 1 completed"
          ]
        },
        {
          "output_type": "stream",
          "name": "stderr",
          "text": [
            "ERROR:yfinance:\n",
            "1 Failed download:\n",
            "ERROR:yfinance:['MICEL']: Exception('%ticker%: No timezone found, symbol may be delisted')\n"
          ]
        },
        {
          "output_type": "stream",
          "name": "stdout",
          "text": [
            "\n",
            "[*********************100%***********************]  1 of 1 completed\n",
            "[*********************100%***********************]  1 of 1 completed"
          ]
        },
        {
          "output_type": "stream",
          "name": "stderr",
          "text": [
            "ERROR:yfinance:\n",
            "1 Failed download:\n",
            "ERROR:yfinance:['MICEL.BO']: Exception('%ticker%: No timezone found, symbol may be delisted')\n"
          ]
        },
        {
          "output_type": "stream",
          "name": "stdout",
          "text": [
            "\n",
            "        Date  Open   High    Low  Close  Adj Close  Volume\n",
            "0 2023-04-17  12.2  12.75  12.20  12.35      12.35   65421\n",
            "1 2023-04-18  12.6  12.60  11.75  12.10      12.10  169546\n",
            "\n",
            "\n",
            "check= 0\n",
            "i= 1030\n",
            "check= 0\n",
            "Index= 1031\n",
            "[*********************100%***********************]  1 of 1 completed"
          ]
        },
        {
          "output_type": "stream",
          "name": "stderr",
          "text": [
            "ERROR:yfinance:\n",
            "1 Failed download:\n",
            "ERROR:yfinance:['MIDHANI']: Exception('%ticker%: No timezone found, symbol may be delisted')\n"
          ]
        },
        {
          "output_type": "stream",
          "name": "stdout",
          "text": [
            "\n",
            "[*********************100%***********************]  1 of 1 completed\n",
            "[*********************100%***********************]  1 of 1 completed\n",
            "        Date   Open        High         Low       Close   Adj Close  Volume\n",
            "0 2023-04-17  195.0  196.949997  193.250000  195.300003  195.300003  130604\n",
            "1 2023-04-18  196.0  196.949997  191.899994  193.699997  193.699997  141687\n",
            "\n",
            "\n",
            "check= 0\n",
            "i= 1031\n",
            "check= 0\n",
            "Index= 1032\n",
            "[*********************100%***********************]  1 of 1 completed"
          ]
        },
        {
          "output_type": "stream",
          "name": "stderr",
          "text": [
            "ERROR:yfinance:\n",
            "1 Failed download:\n",
            "ERROR:yfinance:['MINDACORP']: Exception('%ticker%: No timezone found, symbol may be delisted')\n"
          ]
        },
        {
          "output_type": "stream",
          "name": "stdout",
          "text": [
            "\n",
            "[*********************100%***********************]  1 of 1 completed\n",
            "[*********************100%***********************]  1 of 1 completed\n",
            "        Date        Open        High         Low       Close   Adj Close  \\\n",
            "0 2023-04-17  266.899994  266.899994  260.500000  262.850006  262.154755   \n",
            "1 2023-04-18  262.899994  269.200012  257.649994  261.200012  260.509125   \n",
            "\n",
            "   Volume  \n",
            "0  826500  \n",
            "1  895505  \n",
            "\n",
            "\n",
            "check= 0\n",
            "i= 1032\n",
            "check= 0\n",
            "Index= 1033\n",
            "[*********************100%***********************]  1 of 1 completed"
          ]
        },
        {
          "output_type": "stream",
          "name": "stderr",
          "text": [
            "ERROR:yfinance:\n",
            "1 Failed download:\n",
            "ERROR:yfinance:['MINDAIND']: Exception('%ticker%: No timezone found, symbol may be delisted')\n"
          ]
        },
        {
          "output_type": "stream",
          "name": "stdout",
          "text": [
            "\n",
            "[*********************100%***********************]  1 of 1 completed"
          ]
        },
        {
          "output_type": "stream",
          "name": "stderr",
          "text": [
            "ERROR:yfinance:\n",
            "1 Failed download:\n",
            "ERROR:yfinance:['MINDAIND.NS']: Exception('%ticker%: No timezone found, symbol may be delisted')\n"
          ]
        },
        {
          "output_type": "stream",
          "name": "stdout",
          "text": [
            "\n",
            "[*********************100%***********************]  1 of 1 completed"
          ]
        },
        {
          "output_type": "stream",
          "name": "stderr",
          "text": [
            "ERROR:yfinance:\n",
            "1 Failed download:\n",
            "ERROR:yfinance:['MINDAIND.BO']: Exception('%ticker%: No timezone found, symbol may be delisted')\n"
          ]
        },
        {
          "output_type": "stream",
          "name": "stdout",
          "text": [
            "\n",
            "Index= 1034\n",
            "[*********************100%***********************]  1 of 1 completed"
          ]
        },
        {
          "output_type": "stream",
          "name": "stderr",
          "text": [
            "ERROR:yfinance:\n",
            "1 Failed download:\n",
            "ERROR:yfinance:['MINDTECK']: Exception('%ticker%: No timezone found, symbol may be delisted')\n"
          ]
        },
        {
          "output_type": "stream",
          "name": "stdout",
          "text": [
            "\n",
            "[*********************100%***********************]  1 of 1 completed\n",
            "[*********************100%***********************]  1 of 1 completed\n",
            "        Date        Open        High         Low       Close   Adj Close  \\\n",
            "0 2023-04-17  128.500000  128.500000  119.050003  122.500000  121.502037   \n",
            "1 2023-04-18  122.300003  126.199997  119.000000  120.650002  119.667107   \n",
            "\n",
            "   Volume  \n",
            "0   23380  \n",
            "1   23306  \n",
            "\n",
            "\n",
            "check= 0\n",
            "i= 1034\n",
            "check= 0\n",
            "Index= 1035\n",
            "[*********************100%***********************]  1 of 1 completed"
          ]
        },
        {
          "output_type": "stream",
          "name": "stderr",
          "text": [
            "ERROR:yfinance:\n",
            "1 Failed download:\n",
            "ERROR:yfinance:['MINDTREE']: Exception('%ticker%: No timezone found, symbol may be delisted')\n"
          ]
        },
        {
          "output_type": "stream",
          "name": "stdout",
          "text": [
            "\n",
            "[*********************100%***********************]  1 of 1 completed"
          ]
        },
        {
          "output_type": "stream",
          "name": "stderr",
          "text": [
            "ERROR:yfinance:\n",
            "1 Failed download:\n",
            "ERROR:yfinance:['MINDTREE.NS']: Exception('%ticker%: No timezone found, symbol may be delisted')\n"
          ]
        },
        {
          "output_type": "stream",
          "name": "stdout",
          "text": [
            "\n",
            "[*********************100%***********************]  1 of 1 completed"
          ]
        },
        {
          "output_type": "stream",
          "name": "stderr",
          "text": [
            "ERROR:yfinance:\n",
            "1 Failed download:\n",
            "ERROR:yfinance:['MINDTREE.BO']: Exception('%ticker%: No timezone found, symbol may be delisted')\n"
          ]
        },
        {
          "output_type": "stream",
          "name": "stdout",
          "text": [
            "\n",
            "Index= 1036\n",
            "[*********************100%***********************]  1 of 1 completed"
          ]
        },
        {
          "output_type": "stream",
          "name": "stderr",
          "text": [
            "ERROR:yfinance:\n",
            "1 Failed download:\n",
            "ERROR:yfinance:['MIRCELECTR']: Exception('%ticker%: No timezone found, symbol may be delisted')\n"
          ]
        },
        {
          "output_type": "stream",
          "name": "stdout",
          "text": [
            "\n",
            "[*********************100%***********************]  1 of 1 completed\n",
            "[*********************100%***********************]  1 of 1 completed\n",
            "        Date   Open   High    Low  Close  Adj Close  Volume\n",
            "0 2023-04-17  13.95  14.50  13.40  14.15      14.15  538809\n",
            "1 2023-04-18  14.20  14.85  13.95  14.15      14.15  335034\n",
            "\n",
            "\n",
            "check= 0\n",
            "i= 1036\n",
            "check= 0\n",
            "Index= 1037\n",
            "[*********************100%***********************]  1 of 1 completed"
          ]
        },
        {
          "output_type": "stream",
          "name": "stderr",
          "text": [
            "ERROR:yfinance:\n",
            "1 Failed download:\n",
            "ERROR:yfinance:['MIRZAINT']: Exception('%ticker%: No timezone found, symbol may be delisted')\n"
          ]
        },
        {
          "output_type": "stream",
          "name": "stdout",
          "text": [
            "\n",
            "[*********************100%***********************]  1 of 1 completed\n",
            "[*********************100%***********************]  1 of 1 completed\n",
            "        Date       Open       High        Low      Close  Adj Close   Volume\n",
            "0 2023-04-17  35.049999  35.049999  33.500000  35.000000  35.000000  1271563\n",
            "1 2023-04-18  35.799999  42.000000  35.700001  41.599998  41.599998  7143117\n",
            "\n",
            "\n",
            "check= 0\n",
            "i= 1037\n",
            "check= 0\n",
            "Index= 1038\n",
            "[*********************100%***********************]  1 of 1 completed"
          ]
        },
        {
          "output_type": "stream",
          "name": "stderr",
          "text": [
            "ERROR:yfinance:\n",
            "1 Failed download:\n",
            "ERROR:yfinance:['MITTAL']: Exception('%ticker%: No timezone found, symbol may be delisted')\n"
          ]
        },
        {
          "output_type": "stream",
          "name": "stdout",
          "text": [
            "\n",
            "[*********************100%***********************]  1 of 1 completed\n",
            "[*********************100%***********************]  1 of 1 completed"
          ]
        },
        {
          "output_type": "stream",
          "name": "stderr",
          "text": [
            "ERROR:yfinance:\n",
            "1 Failed download:\n",
            "ERROR:yfinance:['MITTAL.BO']: Exception('%ticker%: No timezone found, symbol may be delisted')\n"
          ]
        },
        {
          "output_type": "stream",
          "name": "stdout",
          "text": [
            "\n",
            "        Date   Open   High    Low  Close  Adj Close  Volume\n",
            "0 2023-04-17  12.75  12.75  11.25  11.45      11.45   80917\n",
            "1 2023-04-18  11.30  11.80  11.30  11.35      11.35   45553\n",
            "\n",
            "\n",
            "check= 0\n",
            "i= 1038\n",
            "check= 0\n",
            "Index= 1039\n",
            "[*********************100%***********************]  1 of 1 completed"
          ]
        },
        {
          "output_type": "stream",
          "name": "stderr",
          "text": [
            "ERROR:yfinance:\n",
            "1 Failed download:\n",
            "ERROR:yfinance:['MMFL']: Exception('%ticker%: No timezone found, symbol may be delisted')\n"
          ]
        },
        {
          "output_type": "stream",
          "name": "stdout",
          "text": [
            "\n",
            "[*********************100%***********************]  1 of 1 completed\n",
            "[*********************100%***********************]  1 of 1 completed\n",
            "        Date        Open        High         Low       Close   Adj Close  \\\n",
            "0 2023-04-17  820.150024  849.000000  820.150024  839.250000  833.312256   \n",
            "1 2023-04-18  847.650024  865.799988  834.700012  851.349976  845.326599   \n",
            "\n",
            "   Volume  \n",
            "0    9202  \n",
            "1  111940  \n",
            "\n",
            "\n",
            "check= 0\n",
            "i= 1039\n",
            "check= 0\n",
            "Index= 1040\n",
            "[*********************100%***********************]  1 of 1 completed\n",
            "[*********************100%***********************]  1 of 1 completed\n",
            "[*********************100%***********************]  1 of 1 completed"
          ]
        },
        {
          "output_type": "stream",
          "name": "stderr",
          "text": [
            "ERROR:yfinance:\n",
            "1 Failed download:\n",
            "ERROR:yfinance:['MMP.BO']: Exception('%ticker%: No timezone found, symbol may be delisted')\n"
          ]
        },
        {
          "output_type": "stream",
          "name": "stdout",
          "text": [
            "\n",
            "        Date       Open       High        Low      Close  Adj Close   Volume\n",
            "0 2023-04-17  56.139999  56.400002  55.599998  56.180000   54.23502  1727000\n",
            "1 2023-04-18  56.389999  56.880001  56.119999  56.599998   54.64048   542700\n",
            "\n",
            "\n",
            "check= 0\n",
            "i= 1040\n",
            "check= 0\n",
            "Index= 1041\n",
            "[*********************100%***********************]  1 of 1 completed\n",
            "[*********************100%***********************]  1 of 1 completed\n",
            "[*********************100%***********************]  1 of 1 completed\n",
            "        Date    Open    High     Low   Close  Adj Close  Volume\n",
            "0 2023-04-17  0.0003  0.0003  0.0003  0.0003     0.0003       0\n",
            "1 2023-04-18  0.0003  0.0003  0.0003  0.0003     0.0003       0\n",
            "\n",
            "\n",
            "check= 0\n",
            "i= 1041\n",
            "check= 0\n",
            "Index= 1042\n",
            "[*********************100%***********************]  1 of 1 completed"
          ]
        },
        {
          "output_type": "stream",
          "name": "stderr",
          "text": [
            "ERROR:yfinance:\n",
            "1 Failed download:\n",
            "ERROR:yfinance:['MODIRUBBER']: Exception('%ticker%: No timezone found, symbol may be delisted')\n"
          ]
        },
        {
          "output_type": "stream",
          "name": "stdout",
          "text": [
            "\n",
            "[*********************100%***********************]  1 of 1 completed\n",
            "[*********************100%***********************]  1 of 1 completed\n",
            "        Date  Open  High   Low  Close  Adj Close  Volume\n",
            "0 2023-04-17  62.0  62.5  62.0   62.5       62.5     107\n",
            "1 2023-04-18  62.5  63.0  62.0   63.0       63.0     174\n",
            "\n",
            "\n",
            "check= -1\n",
            "i= 1042\n",
            "check= -1\n",
            "Company name= Modi Rubber Limited\n",
            "Suggestion=Sell stock\n",
            "Target price1= 68.23333231608072\n",
            "Target price2= 67.96666463216145\n",
            "Stop loss 783.43\n",
            "Index= 1043\n",
            "[*********************100%***********************]  1 of 1 completed"
          ]
        },
        {
          "output_type": "stream",
          "name": "stderr",
          "text": [
            "ERROR:yfinance:\n",
            "1 Failed download:\n",
            "ERROR:yfinance:['MODISNME']: Exception('%ticker%: No timezone found, symbol may be delisted')\n"
          ]
        },
        {
          "output_type": "stream",
          "name": "stdout",
          "text": [
            "\n",
            "[*********************100%***********************]  1 of 1 completed"
          ]
        },
        {
          "output_type": "stream",
          "name": "stderr",
          "text": [
            "ERROR:yfinance:\n",
            "1 Failed download:\n",
            "ERROR:yfinance:['MODISNME.NS']: Exception('%ticker%: No timezone found, symbol may be delisted')\n"
          ]
        },
        {
          "output_type": "stream",
          "name": "stdout",
          "text": [
            "\n",
            "[*********************100%***********************]  1 of 1 completed"
          ]
        },
        {
          "output_type": "stream",
          "name": "stderr",
          "text": [
            "ERROR:yfinance:\n",
            "1 Failed download:\n",
            "ERROR:yfinance:['MODISNME.BO']: Exception('%ticker%: No timezone found, symbol may be delisted')\n"
          ]
        },
        {
          "output_type": "stream",
          "name": "stdout",
          "text": [
            "\n",
            "Index= 1044\n",
            "[*********************100%***********************]  1 of 1 completed"
          ]
        },
        {
          "output_type": "stream",
          "name": "stderr",
          "text": [
            "ERROR:yfinance:\n",
            "1 Failed download:\n",
            "ERROR:yfinance:['MOHITIND']: Exception('%ticker%: No timezone found, symbol may be delisted')\n"
          ]
        },
        {
          "output_type": "stream",
          "name": "stdout",
          "text": [
            "\n",
            "[*********************100%***********************]  1 of 1 completed\n",
            "[*********************100%***********************]  1 of 1 completed\n",
            "        Date  Open   High    Low  Close  Adj Close  Volume\n",
            "0 2023-04-17  13.1  13.50  12.65  12.75      12.75    4760\n",
            "1 2023-04-18  12.8  13.95  12.40  13.35      13.35   27067\n",
            "\n",
            "\n",
            "check= 0\n",
            "i= 1044\n",
            "check= 0\n",
            "Index= 1045\n",
            "[*********************100%***********************]  1 of 1 completed"
          ]
        },
        {
          "output_type": "stream",
          "name": "stderr",
          "text": [
            "ERROR:yfinance:\n",
            "1 Failed download:\n",
            "ERROR:yfinance:['MOHOTAIND']: Exception('%ticker%: No timezone found, symbol may be delisted')\n"
          ]
        },
        {
          "output_type": "stream",
          "name": "stdout",
          "text": [
            "\n",
            "[*********************100%***********************]  1 of 1 completed\n",
            "[*********************100%***********************]  1 of 1 completed\n",
            "        Date  Open  High  Low  Close  Adj Close  Volume\n",
            "0 2023-04-17   4.0   4.4  4.0    4.0        4.0   10605\n",
            "1 2023-04-18   4.0   4.0  4.0    4.0        4.0       0\n",
            "\n",
            "\n",
            "check= 0\n",
            "i= 1045\n",
            "check= 0\n",
            "Index= 1046\n",
            "[*********************100%***********************]  1 of 1 completed"
          ]
        },
        {
          "output_type": "stream",
          "name": "stderr",
          "text": [
            "ERROR:yfinance:\n",
            "1 Failed download:\n",
            "ERROR:yfinance:['MOIL']: Exception('%ticker%: No price data found, symbol may be delisted (1d 2023-04-15 -> 2023-08-13)')\n"
          ]
        },
        {
          "output_type": "stream",
          "name": "stdout",
          "text": [
            "\n",
            "[*********************100%***********************]  1 of 1 completed\n",
            "[*********************100%***********************]  1 of 1 completed\n",
            "        Date    Open    High         Low       Close   Adj Close  Volume\n",
            "0 2023-04-17  152.25  153.75  150.699997  152.500000  152.500000  109046\n",
            "1 2023-04-18  151.25  154.50  151.250000  153.899994  153.899994   98738\n",
            "\n",
            "\n",
            "check= 0\n",
            "i= 1046\n",
            "check= 0\n",
            "Index= 1047\n",
            "[*********************100%***********************]  1 of 1 completed"
          ]
        },
        {
          "output_type": "stream",
          "name": "stderr",
          "text": [
            "ERROR:yfinance:\n",
            "1 Failed download:\n",
            "ERROR:yfinance:['MOKSH']: Exception('%ticker%: No timezone found, symbol may be delisted')\n"
          ]
        },
        {
          "output_type": "stream",
          "name": "stdout",
          "text": [
            "\n",
            "[*********************100%***********************]  1 of 1 completed\n",
            "[*********************100%***********************]  1 of 1 completed"
          ]
        },
        {
          "output_type": "stream",
          "name": "stderr",
          "text": [
            "ERROR:yfinance:\n",
            "1 Failed download:\n",
            "ERROR:yfinance:['MOKSH.BO']: Exception('%ticker%: No timezone found, symbol may be delisted')\n"
          ]
        },
        {
          "output_type": "stream",
          "name": "stdout",
          "text": [
            "\n",
            "        Date  Open  High   Low  Close  Adj Close  Volume\n",
            "0 2023-04-17  9.75  10.0  9.55    9.8        9.8   77468\n",
            "1 2023-04-18  9.90  10.0  9.70    9.8        9.8   48348\n",
            "\n",
            "\n",
            "check= 0\n",
            "i= 1047\n",
            "check= 0\n",
            "Index= 1048\n",
            "[*********************100%***********************]  1 of 1 completed"
          ]
        },
        {
          "output_type": "stream",
          "name": "stderr",
          "text": [
            "ERROR:yfinance:\n",
            "1 Failed download:\n",
            "ERROR:yfinance:['MOL']: Exception('%ticker%: No timezone found, symbol may be delisted')\n"
          ]
        },
        {
          "output_type": "stream",
          "name": "stdout",
          "text": [
            "\n",
            "[*********************100%***********************]  1 of 1 completed\n",
            "[*********************100%***********************]  1 of 1 completed\n",
            "        Date   Open       High        Low      Close  Adj Close  Volume\n",
            "0 2023-04-17  91.25  91.500000  87.800003  88.250000  86.845222  635573\n",
            "1 2023-04-18  88.25  91.900002  88.250000  90.150002  88.714981  392548\n",
            "\n",
            "\n",
            "check= -1\n",
            "i= 1048\n",
            "check= -1\n",
            "Company name= Meghmani Organics Limited\n",
            "Suggestion=Sell stock\n",
            "Target price1= 84.13333129882812\n",
            "Target price2= 83.91666412353516\n",
            "Stop loss 783.43\n",
            "Index= 1049\n",
            "[*********************100%***********************]  1 of 1 completed"
          ]
        },
        {
          "output_type": "stream",
          "name": "stderr",
          "text": [
            "ERROR:yfinance:\n",
            "1 Failed download:\n",
            "ERROR:yfinance:['MOLDTECH']: Exception('%ticker%: No timezone found, symbol may be delisted')\n"
          ]
        },
        {
          "output_type": "stream",
          "name": "stdout",
          "text": [
            "\n",
            "[*********************100%***********************]  1 of 1 completed\n",
            "[*********************100%***********************]  1 of 1 completed"
          ]
        },
        {
          "output_type": "stream",
          "name": "stderr",
          "text": [
            "ERROR:yfinance:\n",
            "1 Failed download:\n",
            "ERROR:yfinance:['MOLDTECH.BO']: Exception('%ticker%: No timezone found, symbol may be delisted')\n"
          ]
        },
        {
          "output_type": "stream",
          "name": "stdout",
          "text": [
            "\n",
            "        Date        Open        High         Low       Close   Adj Close  \\\n",
            "0 2023-04-17  271.700012  287.000000  270.149994  282.649994  280.716034   \n",
            "1 2023-04-18  287.000000  292.149994  276.500000  281.100006  279.176636   \n",
            "\n",
            "   Volume  \n",
            "0  244965  \n",
            "1  224470  \n",
            "\n",
            "\n",
            "check= 0\n",
            "i= 1049\n",
            "check= 0\n",
            "Index= 1050\n",
            "[*********************100%***********************]  1 of 1 completed"
          ]
        },
        {
          "output_type": "stream",
          "name": "stderr",
          "text": [
            "ERROR:yfinance:\n",
            "1 Failed download:\n",
            "ERROR:yfinance:['MOLDTKPAC']: Exception('%ticker%: No timezone found, symbol may be delisted')\n"
          ]
        },
        {
          "output_type": "stream",
          "name": "stdout",
          "text": [
            "\n",
            "[*********************100%***********************]  1 of 1 completed\n",
            "[*********************100%***********************]  1 of 1 completed\n",
            "        Date        Open        High         Low       Close   Adj Close  \\\n",
            "0 2023-04-17  936.200012  956.000000  936.049988  949.700012  945.629517   \n",
            "1 2023-04-18  955.400024  959.400024  940.099976  943.250000  939.207153   \n",
            "\n",
            "   Volume  \n",
            "0   23226  \n",
            "1   15409  \n",
            "\n",
            "\n",
            "check= 0\n",
            "i= 1050\n",
            "check= 0\n",
            "Index= 1051\n",
            "[*********************100%***********************]  1 of 1 completed"
          ]
        },
        {
          "output_type": "stream",
          "name": "stderr",
          "text": [
            "ERROR:yfinance:\n",
            "1 Failed download:\n",
            "ERROR:yfinance:['MONARCH']: Exception('%ticker%: No timezone found, symbol may be delisted')\n"
          ]
        },
        {
          "output_type": "stream",
          "name": "stdout",
          "text": [
            "\n",
            "[*********************100%***********************]  1 of 1 completed\n",
            "[*********************100%***********************]  1 of 1 completed\n",
            "        Date        Open        High         Low       Close   Adj Close  \\\n",
            "0 2023-04-17  218.149994  224.750000  213.600006  215.399994  215.399994   \n",
            "1 2023-04-18  214.800003  220.949997  194.100006  206.350006  206.350006   \n",
            "\n",
            "   Volume  \n",
            "0   75963  \n",
            "1   88276  \n",
            "\n",
            "\n",
            "check= 0\n",
            "i= 1051\n",
            "check= 0\n",
            "Index= 1052\n",
            "[*********************100%***********************]  1 of 1 completed"
          ]
        },
        {
          "output_type": "stream",
          "name": "stderr",
          "text": [
            "ERROR:yfinance:\n",
            "1 Failed download:\n",
            "ERROR:yfinance:['MONTECARLO']: Exception('%ticker%: No timezone found, symbol may be delisted')\n"
          ]
        },
        {
          "output_type": "stream",
          "name": "stdout",
          "text": [
            "\n",
            "[*********************100%***********************]  1 of 1 completed\n",
            "[*********************100%***********************]  1 of 1 completed\n",
            "        Date   Open        High         Low       Close   Adj Close  Volume\n",
            "0 2023-04-17  670.0  693.400024  668.400024  683.250000  683.250000  109641\n",
            "1 2023-04-18  690.0  699.000000  684.000000  695.349976  695.349976   39321\n",
            "\n",
            "\n",
            "check= 0\n",
            "i= 1052\n",
            "check= 0\n",
            "Index= 1053\n",
            "[*********************100%***********************]  1 of 1 completed"
          ]
        },
        {
          "output_type": "stream",
          "name": "stderr",
          "text": [
            "ERROR:yfinance:\n",
            "1 Failed download:\n",
            "ERROR:yfinance:['MORARJEE']: Exception('%ticker%: No timezone found, symbol may be delisted')\n"
          ]
        },
        {
          "output_type": "stream",
          "name": "stdout",
          "text": [
            "\n",
            "[*********************100%***********************]  1 of 1 completed\n",
            "[*********************100%***********************]  1 of 1 completed\n",
            "        Date       Open  High   Low      Close  Adj Close  Volume\n",
            "0 2023-04-17  19.600000  20.0  19.1  19.549999  19.549999    8335\n",
            "1 2023-04-18  20.049999  20.1  19.0  19.299999  19.299999   23734\n",
            "\n",
            "\n",
            "check= 0\n",
            "i= 1053\n",
            "check= 0\n",
            "Index= 1054\n",
            "[*********************100%***********************]  1 of 1 completed"
          ]
        },
        {
          "output_type": "stream",
          "name": "stderr",
          "text": [
            "ERROR:yfinance:\n",
            "1 Failed download:\n",
            "ERROR:yfinance:['MOREPENLAB']: Exception('%ticker%: No timezone found, symbol may be delisted')\n"
          ]
        },
        {
          "output_type": "stream",
          "name": "stdout",
          "text": [
            "\n",
            "[*********************100%***********************]  1 of 1 completed\n",
            "[*********************100%***********************]  1 of 1 completed\n",
            "        Date       Open   High        Low      Close  Adj Close   Volume\n",
            "0 2023-04-17  27.400000  27.85  27.049999  27.450001  27.450001  2944982\n",
            "1 2023-04-18  27.549999  27.75  27.049999  27.200001  27.200001  2275489\n",
            "\n",
            "\n",
            "check= 0\n",
            "i= 1054\n",
            "check= 0\n",
            "Index= 1055\n",
            "[*********************100%***********************]  1 of 1 completed"
          ]
        },
        {
          "output_type": "stream",
          "name": "stderr",
          "text": [
            "ERROR:yfinance:\n",
            "1 Failed download:\n",
            "ERROR:yfinance:['MOTHERSUMI']: Exception('%ticker%: No timezone found, symbol may be delisted')\n"
          ]
        },
        {
          "output_type": "stream",
          "name": "stdout",
          "text": [
            "\n",
            "[*********************100%***********************]  1 of 1 completed"
          ]
        },
        {
          "output_type": "stream",
          "name": "stderr",
          "text": [
            "ERROR:yfinance:\n",
            "1 Failed download:\n",
            "ERROR:yfinance:['MOTHERSUMI.NS']: Exception('%ticker%: No timezone found, symbol may be delisted')\n"
          ]
        },
        {
          "output_type": "stream",
          "name": "stdout",
          "text": [
            "\n",
            "[*********************100%***********************]  1 of 1 completed"
          ]
        },
        {
          "output_type": "stream",
          "name": "stderr",
          "text": [
            "ERROR:yfinance:\n",
            "1 Failed download:\n",
            "ERROR:yfinance:['MOTHERSUMI.BO']: Exception('%ticker%: No timezone found, symbol may be delisted')\n"
          ]
        },
        {
          "output_type": "stream",
          "name": "stdout",
          "text": [
            "\n",
            "Index= 1056\n",
            "[*********************100%***********************]  1 of 1 completed"
          ]
        },
        {
          "output_type": "stream",
          "name": "stderr",
          "text": [
            "ERROR:yfinance:\n",
            "1 Failed download:\n",
            "ERROR:yfinance:['MOTILALOFS']: Exception('%ticker%: No timezone found, symbol may be delisted')\n"
          ]
        },
        {
          "output_type": "stream",
          "name": "stdout",
          "text": [
            "\n",
            "[*********************100%***********************]  1 of 1 completed\n",
            "[*********************100%***********************]  1 of 1 completed\n",
            "        Date        Open        High         Low       Close   Adj Close  \\\n",
            "0 2023-04-17  630.250000  637.599976  619.000000  622.299988  619.773071   \n",
            "1 2023-04-18  622.299988  623.549988  605.049988  613.250000  610.759827   \n",
            "\n",
            "   Volume  \n",
            "0   54855  \n",
            "1  101463  \n",
            "\n",
            "\n",
            "check= 0\n",
            "i= 1056\n",
            "check= 0\n",
            "Index= 1057\n",
            "[*********************100%***********************]  1 of 1 completed"
          ]
        },
        {
          "output_type": "stream",
          "name": "stderr",
          "text": [
            "ERROR:yfinance:\n",
            "1 Failed download:\n",
            "ERROR:yfinance:['MOTOGENFIN']: Exception('%ticker%: No timezone found, symbol may be delisted')\n"
          ]
        },
        {
          "output_type": "stream",
          "name": "stdout",
          "text": [
            "\n",
            "[*********************100%***********************]  1 of 1 completed\n",
            "[*********************100%***********************]  1 of 1 completed\n",
            "        Date       Open  High    Low      Close  Adj Close  Volume\n",
            "0 2023-04-17  32.000000  33.5  32.00  32.950001  32.950001    4488\n",
            "1 2023-04-18  32.599998  33.5  31.35  31.650000  31.650000    6883\n",
            "\n",
            "\n",
            "check= 0\n",
            "i= 1057\n",
            "check= 0\n",
            "Index= 1058\n",
            "[*********************100%***********************]  1 of 1 completed"
          ]
        },
        {
          "output_type": "stream",
          "name": "stderr",
          "text": [
            "ERROR:yfinance:\n",
            "1 Failed download:\n",
            "ERROR:yfinance:['MPHASIS']: Exception('%ticker%: No timezone found, symbol may be delisted')\n"
          ]
        },
        {
          "output_type": "stream",
          "name": "stdout",
          "text": [
            "\n",
            "[*********************100%***********************]  1 of 1 completed\n",
            "[*********************100%***********************]  1 of 1 completed\n",
            "        Date         Open         High          Low        Close    Adj Close  \\\n",
            "0 2023-04-17  1749.949951  1749.949951  1660.050049  1736.550049  1691.222290   \n",
            "1 2023-04-18  1744.000000  1789.000000  1733.750000  1783.800049  1737.239014   \n",
            "\n",
            "    Volume  \n",
            "0  1218305  \n",
            "1   390524  \n",
            "\n",
            "\n",
            "check= 0\n",
            "i= 1058\n",
            "check= 0\n",
            "Index= 1059\n",
            "[*********************100%***********************]  1 of 1 completed"
          ]
        },
        {
          "output_type": "stream",
          "name": "stderr",
          "text": [
            "ERROR:yfinance:\n",
            "1 Failed download:\n",
            "ERROR:yfinance:['MPSLTD']: Exception('%ticker%: No timezone found, symbol may be delisted')\n"
          ]
        },
        {
          "output_type": "stream",
          "name": "stdout",
          "text": [
            "\n",
            "[*********************100%***********************]  1 of 1 completed\n",
            "[*********************100%***********************]  1 of 1 completed\n",
            "        Date        Open        High         Low       Close   Adj Close  \\\n",
            "0 2023-04-17  910.549988  910.549988  877.599976  895.849976  866.026611   \n",
            "1 2023-04-18  895.849976  937.000000  895.000000  930.099976  899.136475   \n",
            "\n",
            "   Volume  \n",
            "0   39373  \n",
            "1   35744  \n",
            "\n",
            "\n",
            "check= 0\n",
            "i= 1059\n",
            "check= 0\n",
            "Index= 1060\n",
            "[*********************100%***********************]  1 of 1 completed"
          ]
        },
        {
          "output_type": "stream",
          "name": "stderr",
          "text": [
            "ERROR:yfinance:\n",
            "1 Failed download:\n",
            "ERROR:yfinance:['MRF']: Exception('%ticker%: No price data found, symbol may be delisted (1d 2023-04-15 -> 2023-08-13)')\n"
          ]
        },
        {
          "output_type": "stream",
          "name": "stdout",
          "text": [
            "\n",
            "[*********************100%***********************]  1 of 1 completed\n",
            "[*********************100%***********************]  1 of 1 completed\n",
            "        Date     Open     High           Low         Close     Adj Close  \\\n",
            "0 2023-04-17  85499.0  85700.0  85001.000000  85376.351562  85235.882812   \n",
            "1 2023-04-18  85500.0  87495.0  85487.453125  86821.351562  86678.507812   \n",
            "\n",
            "   Volume  \n",
            "0    2573  \n",
            "1    6492  \n",
            "\n",
            "\n",
            "check= 0\n",
            "i= 1060\n",
            "check= 0\n",
            "Index= 1061\n",
            "[*********************100%***********************]  1 of 1 completed"
          ]
        },
        {
          "output_type": "stream",
          "name": "stderr",
          "text": [
            "ERROR:yfinance:\n",
            "1 Failed download:\n",
            "ERROR:yfinance:['MRO-TEK']: Exception('%ticker%: No timezone found, symbol may be delisted')\n"
          ]
        },
        {
          "output_type": "stream",
          "name": "stdout",
          "text": [
            "\n",
            "[*********************100%***********************]  1 of 1 completed\n",
            "[*********************100%***********************]  1 of 1 completed\n",
            "        Date       Open       High        Low      Close  Adj Close  Volume\n",
            "0 2023-04-17  57.500000  57.700001  57.000000  57.049999  57.049999    6909\n",
            "1 2023-04-18  58.950001  59.000000  57.200001  57.599998  57.599998    4816\n",
            "\n",
            "\n",
            "check= 0\n",
            "i= 1061\n",
            "check= 0\n",
            "Index= 1062\n",
            "[*********************100%***********************]  1 of 1 completed"
          ]
        },
        {
          "output_type": "stream",
          "name": "stderr",
          "text": [
            "ERROR:yfinance:\n",
            "1 Failed download:\n",
            "ERROR:yfinance:['MRPL']: Exception('%ticker%: No timezone found, symbol may be delisted')\n"
          ]
        },
        {
          "output_type": "stream",
          "name": "stdout",
          "text": [
            "\n",
            "[*********************100%***********************]  1 of 1 completed\n",
            "[*********************100%***********************]  1 of 1 completed\n",
            "        Date       Open       High        Low      Close  Adj Close   Volume\n",
            "0 2023-04-17  53.299999  53.700001  52.849998  53.549999  53.549999  1020748\n",
            "1 2023-04-18  53.500000  54.450001  53.349998  53.750000  53.750000  1393194\n",
            "\n",
            "\n",
            "check= 0\n",
            "i= 1062\n",
            "check= 0\n",
            "Index= 1063\n",
            "[*********************100%***********************]  1 of 1 completed"
          ]
        },
        {
          "output_type": "stream",
          "name": "stderr",
          "text": [
            "ERROR:yfinance:\n",
            "1 Failed download:\n",
            "ERROR:yfinance:['MSPL']: Exception('%ticker%: No timezone found, symbol may be delisted')\n"
          ]
        },
        {
          "output_type": "stream",
          "name": "stdout",
          "text": [
            "\n",
            "[*********************100%***********************]  1 of 1 completed\n",
            "[*********************100%***********************]  1 of 1 completed\n",
            "        Date  Open  High   Low  Close  Adj Close  Volume\n",
            "0 2023-04-17  9.10  9.10  8.80    8.9        8.9   66629\n",
            "1 2023-04-18  8.95  9.05  8.65    8.9        8.9  138851\n",
            "\n",
            "\n",
            "check= 0\n",
            "i= 1063\n",
            "check= 0\n",
            "Index= 1064\n",
            "[*********************100%***********************]  1 of 1 completed"
          ]
        },
        {
          "output_type": "stream",
          "name": "stderr",
          "text": [
            "ERROR:yfinance:\n",
            "1 Failed download:\n",
            "ERROR:yfinance:['MSTCLTD']: Exception('%ticker%: No timezone found, symbol may be delisted')\n"
          ]
        },
        {
          "output_type": "stream",
          "name": "stdout",
          "text": [
            "\n",
            "[*********************100%***********************]  1 of 1 completed\n",
            "[*********************100%***********************]  1 of 1 completed"
          ]
        },
        {
          "output_type": "stream",
          "name": "stderr",
          "text": [
            "ERROR:yfinance:\n",
            "1 Failed download:\n",
            "ERROR:yfinance:['MSTCLTD.BO']: Exception('%ticker%: No timezone found, symbol may be delisted')\n"
          ]
        },
        {
          "output_type": "stream",
          "name": "stdout",
          "text": [
            "\n",
            "        Date        Open        High         Low       Close   Adj Close  \\\n",
            "0 2023-04-17  269.000000  277.600006  266.000000  270.399994  270.399994   \n",
            "1 2023-04-18  270.950012  272.500000  267.299988  269.149994  269.149994   \n",
            "\n",
            "   Volume  \n",
            "0  224824  \n",
            "1  100489  \n",
            "\n",
            "\n",
            "check= -1\n",
            "i= 1064\n",
            "check= -1\n",
            "Company name= Mstc Limited\n",
            "Suggestion=Sell stock\n",
            "Target price1= 459.41667683919275\n",
            "Target price2= 461.3833414713542\n",
            "Stop loss 783.43\n",
            "Index= 1065\n",
            "[*********************100%***********************]  1 of 1 completed"
          ]
        },
        {
          "output_type": "stream",
          "name": "stderr",
          "text": [
            "ERROR:yfinance:\n",
            "1 Failed download:\n",
            "ERROR:yfinance:['MTARTECH']: Exception('%ticker%: No timezone found, symbol may be delisted')\n"
          ]
        },
        {
          "output_type": "stream",
          "name": "stdout",
          "text": [
            "\n",
            "[*********************100%***********************]  1 of 1 completed\n",
            "[*********************100%***********************]  1 of 1 completed\n",
            "        Date         Open         High          Low        Close    Adj Close  \\\n",
            "0 2023-04-17  1703.699951  1772.449951  1692.150024  1755.300049  1755.300049   \n",
            "1 2023-04-18  1735.000000  1777.099976  1735.000000  1768.199951  1768.199951   \n",
            "\n",
            "   Volume  \n",
            "0  223731  \n",
            "1  132297  \n",
            "\n",
            "\n",
            "check= 0\n",
            "i= 1065\n",
            "check= 0\n",
            "Index= 1066\n",
            "[*********************100%***********************]  1 of 1 completed"
          ]
        },
        {
          "output_type": "stream",
          "name": "stderr",
          "text": [
            "ERROR:yfinance:\n",
            "1 Failed download:\n",
            "ERROR:yfinance:['MTEDUCARE']: Exception('%ticker%: No timezone found, symbol may be delisted')\n"
          ]
        },
        {
          "output_type": "stream",
          "name": "stdout",
          "text": [
            "\n",
            "[*********************100%***********************]  1 of 1 completed\n",
            "[*********************100%***********************]  1 of 1 completed\n",
            "        Date  Open  High   Low  Close  Adj Close  Volume\n",
            "0 2023-04-17  4.55  4.55  4.25   4.50       4.50   31415\n",
            "1 2023-04-18  4.50  4.70  4.40   4.55       4.55   15166\n",
            "\n",
            "\n",
            "check= 0\n",
            "i= 1066\n",
            "check= 0\n",
            "Index= 1067\n",
            "[*********************100%***********************]  1 of 1 completed"
          ]
        },
        {
          "output_type": "stream",
          "name": "stderr",
          "text": [
            "ERROR:yfinance:\n",
            "1 Failed download:\n",
            "ERROR:yfinance:['MTNL']: Exception('%ticker%: No timezone found, symbol may be delisted')\n"
          ]
        },
        {
          "output_type": "stream",
          "name": "stdout",
          "text": [
            "\n",
            "[*********************100%***********************]  1 of 1 completed\n",
            "[*********************100%***********************]  1 of 1 completed\n",
            "        Date       Open       High        Low      Close  Adj Close   Volume\n",
            "0 2023-04-17  19.049999  19.299999  18.799999  19.000000  19.000000   981556\n",
            "1 2023-04-18  19.100000  19.400000  18.799999  18.950001  18.950001  1312558\n",
            "\n",
            "\n",
            "check= 0\n",
            "i= 1067\n",
            "check= 0\n",
            "Index= 1068\n",
            "[*********************100%***********************]  1 of 1 completed"
          ]
        },
        {
          "output_type": "stream",
          "name": "stderr",
          "text": [
            "ERROR:yfinance:\n",
            "1 Failed download:\n",
            "ERROR:yfinance:['MUKANDENGG']: Exception('%ticker%: No timezone found, symbol may be delisted')\n"
          ]
        },
        {
          "output_type": "stream",
          "name": "stdout",
          "text": [
            "\n",
            "[*********************100%***********************]  1 of 1 completed"
          ]
        },
        {
          "output_type": "stream",
          "name": "stderr",
          "text": [
            "ERROR:yfinance:\n",
            "1 Failed download:\n",
            "ERROR:yfinance:['MUKANDENGG.NS']: Exception('%ticker%: No price data found, symbol may be delisted (1d 2023-04-15 -> 2023-08-13)')\n"
          ]
        },
        {
          "output_type": "stream",
          "name": "stdout",
          "text": [
            "\n",
            "[*********************100%***********************]  1 of 1 completed"
          ]
        },
        {
          "output_type": "stream",
          "name": "stderr",
          "text": [
            "ERROR:yfinance:\n",
            "1 Failed download:\n",
            "ERROR:yfinance:['MUKANDENGG.BO']: Exception('%ticker%: No timezone found, symbol may be delisted')\n"
          ]
        },
        {
          "output_type": "stream",
          "name": "stdout",
          "text": [
            "\n",
            "Index= 1069\n",
            "[*********************100%***********************]  1 of 1 completed"
          ]
        },
        {
          "output_type": "stream",
          "name": "stderr",
          "text": [
            "ERROR:yfinance:\n",
            "1 Failed download:\n",
            "ERROR:yfinance:['MUKANDLTD']: Exception('%ticker%: No timezone found, symbol may be delisted')\n"
          ]
        },
        {
          "output_type": "stream",
          "name": "stdout",
          "text": [
            "\n",
            "[*********************100%***********************]  1 of 1 completed\n",
            "[*********************100%***********************]  1 of 1 completed\n",
            "        Date        Open        High    Low   Close   Adj Close  Volume\n",
            "0 2023-04-17  136.899994  136.899994  132.5  134.25  132.334198   95959\n",
            "1 2023-04-18  134.649994  135.949997  129.0  130.50  128.637711  181994\n",
            "\n",
            "\n",
            "check= 0\n",
            "i= 1069\n",
            "check= 0\n",
            "Index= 1070\n",
            "[*********************100%***********************]  1 of 1 completed"
          ]
        },
        {
          "output_type": "stream",
          "name": "stderr",
          "text": [
            "ERROR:yfinance:\n",
            "1 Failed download:\n",
            "ERROR:yfinance:['MUKTAARTS']: Exception('%ticker%: No timezone found, symbol may be delisted')\n"
          ]
        },
        {
          "output_type": "stream",
          "name": "stdout",
          "text": [
            "\n",
            "[*********************100%***********************]  1 of 1 completed\n",
            "[*********************100%***********************]  1 of 1 completed\n",
            "        Date       Open   High        Low      Close  Adj Close  Volume\n",
            "0 2023-04-17  48.400002  50.75  48.400002  50.049999  50.049999    7254\n",
            "1 2023-04-18  50.849998  51.00  49.500000  50.200001  50.200001    4277\n",
            "\n",
            "\n",
            "check= 0\n",
            "i= 1070\n",
            "check= 0\n",
            "Index= 1071\n",
            "[*********************100%***********************]  1 of 1 completed"
          ]
        },
        {
          "output_type": "stream",
          "name": "stderr",
          "text": [
            "ERROR:yfinance:\n",
            "1 Failed download:\n",
            "ERROR:yfinance:['MUNJALAU']: Exception('%ticker%: No timezone found, symbol may be delisted')\n"
          ]
        },
        {
          "output_type": "stream",
          "name": "stdout",
          "text": [
            "\n",
            "[*********************100%***********************]  1 of 1 completed\n",
            "[*********************100%***********************]  1 of 1 completed\n",
            "        Date       Open       High        Low      Close  Adj Close  Volume\n",
            "0 2023-04-17  40.950001  41.049999  40.049999  40.599998  40.599998   32812\n",
            "1 2023-04-18  40.900002  42.200001  40.450001  41.450001  41.450001   50045\n",
            "\n",
            "\n",
            "check= 0\n",
            "i= 1071\n",
            "check= 0\n",
            "Index= 1072\n",
            "[*********************100%***********************]  1 of 1 completed"
          ]
        },
        {
          "output_type": "stream",
          "name": "stderr",
          "text": [
            "ERROR:yfinance:\n",
            "1 Failed download:\n",
            "ERROR:yfinance:['MUNJALSHOW']: Exception('%ticker%: No timezone found, symbol may be delisted')\n"
          ]
        },
        {
          "output_type": "stream",
          "name": "stdout",
          "text": [
            "\n",
            "[*********************100%***********************]  1 of 1 completed\n",
            "[*********************100%***********************]  1 of 1 completed\n",
            "        Date       Open       High        Low      Close  Adj Close  Volume\n",
            "0 2023-04-17  91.500000  91.900002  90.599998  91.500000  85.841408    8083\n",
            "1 2023-04-18  91.699997  92.800003  91.550003  92.150002  86.451210    6963\n",
            "\n",
            "\n",
            "check= 0\n",
            "i= 1072\n",
            "check= 0\n",
            "Index= 1073\n",
            "[*********************100%***********************]  1 of 1 completed"
          ]
        },
        {
          "output_type": "stream",
          "name": "stderr",
          "text": [
            "ERROR:yfinance:\n",
            "1 Failed download:\n",
            "ERROR:yfinance:['MURUDCERA']: Exception('%ticker%: No timezone found, symbol may be delisted')\n"
          ]
        },
        {
          "output_type": "stream",
          "name": "stdout",
          "text": [
            "\n",
            "[*********************100%***********************]  1 of 1 completed\n",
            "[*********************100%***********************]  1 of 1 completed\n",
            "        Date       Open       High        Low      Close  Adj Close  Volume\n",
            "0 2023-04-17  34.200001  34.849998  33.599998  33.799999  33.799999   25341\n",
            "1 2023-04-18  34.000000  35.799999  33.799999  35.099998  35.099998   51702\n",
            "\n",
            "\n",
            "check= 0\n",
            "i= 1073\n",
            "check= 0\n",
            "Index= 1074\n",
            "[*********************100%***********************]  1 of 1 completed"
          ]
        },
        {
          "output_type": "stream",
          "name": "stderr",
          "text": [
            "ERROR:yfinance:\n",
            "1 Failed download:\n",
            "ERROR:yfinance:['MUTHOOTCAP']: Exception('%ticker%: No timezone found, symbol may be delisted')\n"
          ]
        },
        {
          "output_type": "stream",
          "name": "stdout",
          "text": [
            "\n",
            "[*********************100%***********************]  1 of 1 completed\n",
            "[*********************100%***********************]  1 of 1 completed"
          ]
        },
        {
          "output_type": "stream",
          "name": "stderr",
          "text": [
            "ERROR:yfinance:\n",
            "1 Failed download:\n",
            "ERROR:yfinance:['MUTHOOTCAP.BO']: Exception('%ticker%: No timezone found, symbol may be delisted')\n"
          ]
        },
        {
          "output_type": "stream",
          "name": "stdout",
          "text": [
            "\n",
            "        Date        Open        High         Low       Close   Adj Close  \\\n",
            "0 2023-04-17  271.899994  272.149994  264.950012  270.149994  270.149994   \n",
            "1 2023-04-18  271.850006  274.899994  269.200012  271.000000  271.000000   \n",
            "\n",
            "   Volume  \n",
            "0   16448  \n",
            "1   13434  \n",
            "\n",
            "\n",
            "check= 0\n",
            "i= 1074\n",
            "check= 0\n",
            "Index= 1075\n",
            "[*********************100%***********************]  1 of 1 completed"
          ]
        },
        {
          "output_type": "stream",
          "name": "stderr",
          "text": [
            "ERROR:yfinance:\n",
            "1 Failed download:\n",
            "ERROR:yfinance:['MUTHOOTFIN']: Exception('%ticker%: No timezone found, symbol may be delisted')\n"
          ]
        },
        {
          "output_type": "stream",
          "name": "stdout",
          "text": [
            "\n",
            "[*********************100%***********************]  1 of 1 completed\n",
            "[*********************100%***********************]  1 of 1 completed\n",
            "        Date         Open         High          Low        Close    Adj Close  \\\n",
            "0 2023-04-17  1033.300049  1053.699951  1027.500000  1048.849976  1026.849976   \n",
            "1 2023-04-18  1030.000000  1078.300049  1024.099976  1050.199951  1050.199951   \n",
            "\n",
            "    Volume  \n",
            "0   504163  \n",
            "1  1481851  \n",
            "\n",
            "\n",
            "check= 0\n",
            "i= 1075\n",
            "check= 0\n",
            "Index= 1076\n",
            "[*********************100%***********************]  1 of 1 completed"
          ]
        },
        {
          "output_type": "stream",
          "name": "stderr",
          "text": [
            "ERROR:yfinance:\n",
            "1 Failed download:\n",
            "ERROR:yfinance:['NACLIND']: Exception('%ticker%: No timezone found, symbol may be delisted')\n"
          ]
        },
        {
          "output_type": "stream",
          "name": "stdout",
          "text": [
            "\n",
            "[*********************100%***********************]  1 of 1 completed\n",
            "[*********************100%***********************]  1 of 1 completed\n",
            "        Date       Open       High    Low      Close  Adj Close  Volume\n",
            "0 2023-04-17  88.250000  88.250000  85.75  86.400002  86.400002   37153\n",
            "1 2023-04-18  87.400002  87.400002  85.50  85.599998  85.599998   42877\n",
            "\n",
            "\n",
            "check= 0\n",
            "i= 1076\n",
            "check= 0\n",
            "Index= 1077\n",
            "[*********************100%***********************]  1 of 1 completed"
          ]
        },
        {
          "output_type": "stream",
          "name": "stderr",
          "text": [
            "ERROR:yfinance:\n",
            "1 Failed download:\n",
            "ERROR:yfinance:['NAGAFERT']: Exception('%ticker%: No timezone found, symbol may be delisted')\n"
          ]
        },
        {
          "output_type": "stream",
          "name": "stdout",
          "text": [
            "\n",
            "[*********************100%***********************]  1 of 1 completed\n",
            "[*********************100%***********************]  1 of 1 completed"
          ]
        },
        {
          "output_type": "stream",
          "name": "stderr",
          "text": [
            "ERROR:yfinance:\n",
            "1 Failed download:\n",
            "ERROR:yfinance:['NAGAFERT.BO']: Exception('%ticker%: No timezone found, symbol may be delisted')\n"
          ]
        },
        {
          "output_type": "stream",
          "name": "stdout",
          "text": [
            "\n",
            "        Date   Open   High   Low  Close  Adj Close   Volume\n",
            "0 2023-04-17  12.35  12.35  11.9  12.35      12.35  1846423\n",
            "1 2023-04-18  12.95  12.95  12.0  12.95      12.95  4497910\n",
            "\n",
            "\n",
            "check= 0\n",
            "i= 1077\n",
            "check= 0\n",
            "Index= 1078\n",
            "[*********************100%***********************]  1 of 1 completed"
          ]
        },
        {
          "output_type": "stream",
          "name": "stderr",
          "text": [
            "ERROR:yfinance:\n",
            "1 Failed download:\n",
            "ERROR:yfinance:['NAGREEKCAP']: Exception('%ticker%: No timezone found, symbol may be delisted')\n"
          ]
        },
        {
          "output_type": "stream",
          "name": "stdout",
          "text": [
            "\n",
            "[*********************100%***********************]  1 of 1 completed\n",
            "[*********************100%***********************]  1 of 1 completed\n",
            "        Date       Open       High        Low  Close  Adj Close  Volume\n",
            "0 2023-04-17  20.200001  21.900000  20.200001  21.90      21.90   23957\n",
            "1 2023-04-18  22.000000  22.950001  20.799999  20.85      20.85   86449\n",
            "\n",
            "\n",
            "check= 0\n",
            "i= 1078\n",
            "check= 0\n",
            "Index= 1079\n",
            "[*********************100%***********************]  1 of 1 completed"
          ]
        },
        {
          "output_type": "stream",
          "name": "stderr",
          "text": [
            "ERROR:yfinance:\n",
            "1 Failed download:\n",
            "ERROR:yfinance:['NAGREEKEXP']: Exception('%ticker%: No timezone found, symbol may be delisted')\n"
          ]
        },
        {
          "output_type": "stream",
          "name": "stdout",
          "text": [
            "\n",
            "[*********************100%***********************]  1 of 1 completed\n",
            "[*********************100%***********************]  1 of 1 completed\n",
            "        Date       Open       High        Low      Close  Adj Close  Volume\n",
            "0 2023-04-17  33.849998  34.049999  32.799999  33.200001  33.200001    2266\n",
            "1 2023-04-18  33.349998  33.900002  32.000000  32.349998  32.349998   14334\n",
            "\n",
            "\n",
            "check= 1\n",
            "i= 1079\n",
            "check= 1\n",
            "Company name= Nagreeka Exports Limited\n",
            "Suggestion=Buy stock\n",
            "Entry price= 49.0942484664917\n",
            "Target price1= 47.8000005086263\n",
            "Target price2= 47.949999491373696\n",
            "Stop loss 783.43\n",
            "Index= 1080\n",
            "[*********************100%***********************]  1 of 1 completed"
          ]
        },
        {
          "output_type": "stream",
          "name": "stderr",
          "text": [
            "ERROR:yfinance:\n",
            "1 Failed download:\n",
            "ERROR:yfinance:['NAHARCAP']: Exception('%ticker%: No timezone found, symbol may be delisted')\n"
          ]
        },
        {
          "output_type": "stream",
          "name": "stdout",
          "text": [
            "\n",
            "[*********************100%***********************]  1 of 1 completed\n",
            "[*********************100%***********************]  1 of 1 completed\n",
            "        Date        Open        High         Low       Close   Adj Close  \\\n",
            "0 2023-04-17  262.149994  268.899994  262.049988  265.299988  265.299988   \n",
            "1 2023-04-18  265.299988  275.950012  263.899994  268.049988  268.049988   \n",
            "\n",
            "   Volume  \n",
            "0    4420  \n",
            "1   15638  \n",
            "\n",
            "\n",
            "check= 0\n",
            "i= 1080\n",
            "check= 0\n",
            "Index= 1081\n",
            "[*********************100%***********************]  1 of 1 completed"
          ]
        },
        {
          "output_type": "stream",
          "name": "stderr",
          "text": [
            "ERROR:yfinance:\n",
            "1 Failed download:\n",
            "ERROR:yfinance:['NAHARINDUS']: Exception('%ticker%: No timezone found, symbol may be delisted')\n"
          ]
        },
        {
          "output_type": "stream",
          "name": "stdout",
          "text": [
            "\n",
            "[*********************100%***********************]  1 of 1 completed\n",
            "[*********************100%***********************]  1 of 1 completed\n",
            "        Date       Open       High        Low      Close  Adj Close  Volume\n",
            "0 2023-04-17  97.300003  97.500000  94.500000  95.199997  95.199997   35223\n",
            "1 2023-04-18  94.550003  98.449997  94.550003  97.000000  97.000000   31159\n",
            "\n",
            "\n",
            "check= 0\n",
            "i= 1081\n",
            "check= 0\n",
            "Index= 1082\n",
            "[*********************100%***********************]  1 of 1 completed"
          ]
        },
        {
          "output_type": "stream",
          "name": "stderr",
          "text": [
            "ERROR:yfinance:\n",
            "1 Failed download:\n",
            "ERROR:yfinance:['NAHARPOLY']: Exception('%ticker%: No timezone found, symbol may be delisted')\n"
          ]
        },
        {
          "output_type": "stream",
          "name": "stdout",
          "text": [
            "\n",
            "[*********************100%***********************]  1 of 1 completed\n",
            "[*********************100%***********************]  1 of 1 completed\n",
            "        Date        Open   High         Low       Close   Adj Close  Volume\n",
            "0 2023-04-17  242.100006  242.5  235.350006  237.550003  237.550003   15364\n",
            "1 2023-04-18  240.000000  245.0  236.100006  238.750000  238.750000   25009\n",
            "\n",
            "\n",
            "check= 1\n",
            "i= 1082\n",
            "check= 1\n",
            "Company name= Nahar Poly Films Limited\n",
            "Suggestion=Buy stock\n",
            "Entry price= 229.39125\n",
            "Target price1= 234.16666666666669\n",
            "Target price2= 229.98332722981772\n",
            "Stop loss 783.43\n",
            "Index= 1083\n",
            "[*********************100%***********************]  1 of 1 completed"
          ]
        },
        {
          "output_type": "stream",
          "name": "stderr",
          "text": [
            "ERROR:yfinance:\n",
            "1 Failed download:\n",
            "ERROR:yfinance:['NAHARSPING']: Exception('%ticker%: No timezone found, symbol may be delisted')\n"
          ]
        },
        {
          "output_type": "stream",
          "name": "stdout",
          "text": [
            "\n",
            "[*********************100%***********************]  1 of 1 completed\n",
            "[*********************100%***********************]  1 of 1 completed\n",
            "        Date        Open        High         Low       Close   Adj Close  \\\n",
            "0 2023-04-17  265.149994  267.000000  261.049988  262.200012  262.200012   \n",
            "1 2023-04-18  258.049988  276.799988  258.049988  267.350006  267.350006   \n",
            "\n",
            "   Volume  \n",
            "0   17530  \n",
            "1   64480  \n",
            "\n",
            "\n",
            "check= 0\n",
            "i= 1083\n",
            "check= 0\n",
            "Index= 1084\n",
            "[*********************100%***********************]  1 of 1 completed"
          ]
        },
        {
          "output_type": "stream",
          "name": "stderr",
          "text": [
            "ERROR:yfinance:\n",
            "1 Failed download:\n",
            "ERROR:yfinance:['NAM-INDIA']: Exception('%ticker%: No timezone found, symbol may be delisted')\n"
          ]
        },
        {
          "output_type": "stream",
          "name": "stdout",
          "text": [
            "\n",
            "[*********************100%***********************]  1 of 1 completed\n",
            "[*********************100%***********************]  1 of 1 completed\n",
            "        Date        Open        High         Low       Close   Adj Close  \\\n",
            "0 2023-04-17  236.449997  240.000000  234.500000  239.050003  225.364212   \n",
            "1 2023-04-18  239.899994  239.899994  236.550003  238.050003  224.421448   \n",
            "\n",
            "    Volume  \n",
            "0  2218541  \n",
            "1   192920  \n",
            "\n",
            "\n",
            "check= 0\n",
            "i= 1084\n",
            "check= 0\n",
            "Index= 1085\n",
            "[*********************100%***********************]  1 of 1 completed"
          ]
        },
        {
          "output_type": "stream",
          "name": "stderr",
          "text": [
            "ERROR:yfinance:\n",
            "1 Failed download:\n",
            "ERROR:yfinance:['NATCOPHARM']: Exception('%ticker%: No timezone found, symbol may be delisted')\n"
          ]
        },
        {
          "output_type": "stream",
          "name": "stdout",
          "text": [
            "\n",
            "[*********************100%***********************]  1 of 1 completed\n",
            "[*********************100%***********************]  1 of 1 completed\n",
            "        Date        Open        High         Low       Close   Adj Close  \\\n",
            "0 2023-04-17  574.950012  574.950012  568.299988  569.799988  569.799988   \n",
            "1 2023-04-18  570.500000  575.000000  565.099976  566.250000  566.250000   \n",
            "\n",
            "   Volume  \n",
            "0  193610  \n",
            "1  440093  \n",
            "\n",
            "\n",
            "check= 0\n",
            "i= 1085\n",
            "check= 0\n",
            "Index= 1086\n",
            "[*********************100%***********************]  1 of 1 completed"
          ]
        },
        {
          "output_type": "stream",
          "name": "stderr",
          "text": [
            "ERROR:yfinance:\n",
            "1 Failed download:\n",
            "ERROR:yfinance:['NATHBIOGEN']: Exception('%ticker%: No timezone found, symbol may be delisted')\n"
          ]
        },
        {
          "output_type": "stream",
          "name": "stdout",
          "text": [
            "\n",
            "[*********************100%***********************]  1 of 1 completed\n",
            "[*********************100%***********************]  1 of 1 completed\n",
            "        Date        Open        High         Low       Close   Adj Close  \\\n",
            "0 2023-04-17  150.399994  158.199997  150.399994  155.949997  151.013275   \n",
            "1 2023-04-18  155.000000  161.500000  154.550003  160.399994  155.322403   \n",
            "\n",
            "   Volume  \n",
            "0   21990  \n",
            "1   24976  \n",
            "\n",
            "\n",
            "check= 0\n",
            "i= 1086\n",
            "check= 0\n",
            "Index= 1087\n",
            "[*********************100%***********************]  1 of 1 completed"
          ]
        },
        {
          "output_type": "stream",
          "name": "stderr",
          "text": [
            "ERROR:yfinance:\n",
            "1 Failed download:\n",
            "ERROR:yfinance:['NATIONALUM']: Exception('%ticker%: No timezone found, symbol may be delisted')\n"
          ]
        },
        {
          "output_type": "stream",
          "name": "stdout",
          "text": [
            "\n",
            "[*********************100%***********************]  1 of 1 completed\n",
            "[*********************100%***********************]  1 of 1 completed\n",
            "        Date       Open       High        Low      Close  Adj Close   Volume\n",
            "0 2023-04-17  79.550003  81.650002  79.250000  81.400002  81.400002  5847694\n",
            "1 2023-04-18  81.199997  82.900002  81.150002  82.699997  82.699997  5503665\n",
            "\n",
            "\n",
            "check= 0\n",
            "i= 1087\n",
            "check= 0\n",
            "Index= 1088\n",
            "[*********************100%***********************]  1 of 1 completed"
          ]
        },
        {
          "output_type": "stream",
          "name": "stderr",
          "text": [
            "ERROR:yfinance:\n",
            "1 Failed download:\n",
            "ERROR:yfinance:['NATNLSTEEL']: Exception('%ticker%: No timezone found, symbol may be delisted')\n"
          ]
        },
        {
          "output_type": "stream",
          "name": "stdout",
          "text": [
            "\n",
            "[*********************100%***********************]  1 of 1 completed"
          ]
        },
        {
          "output_type": "stream",
          "name": "stderr",
          "text": [
            "ERROR:yfinance:\n",
            "1 Failed download:\n",
            "ERROR:yfinance:['NATNLSTEEL.NS']: Exception('%ticker%: No timezone found, symbol may be delisted')\n"
          ]
        },
        {
          "output_type": "stream",
          "name": "stdout",
          "text": [
            "\n",
            "[*********************100%***********************]  1 of 1 completed"
          ]
        },
        {
          "output_type": "stream",
          "name": "stderr",
          "text": [
            "ERROR:yfinance:\n",
            "1 Failed download:\n",
            "ERROR:yfinance:['NATNLSTEEL.BO']: Exception('%ticker%: No timezone found, symbol may be delisted')\n"
          ]
        },
        {
          "output_type": "stream",
          "name": "stdout",
          "text": [
            "\n",
            "Index= 1089\n",
            "[*********************100%***********************]  1 of 1 completed"
          ]
        },
        {
          "output_type": "stream",
          "name": "stderr",
          "text": [
            "ERROR:yfinance:\n",
            "1 Failed download:\n",
            "ERROR:yfinance:['NAUKRI']: Exception('%ticker%: No timezone found, symbol may be delisted')\n"
          ]
        },
        {
          "output_type": "stream",
          "name": "stdout",
          "text": [
            "\n",
            "[*********************100%***********************]  1 of 1 completed\n",
            "[*********************100%***********************]  1 of 1 completed\n",
            "        Date         Open    High          Low        Close    Adj Close  \\\n",
            "0 2023-04-17  3778.000000  3778.0  3603.949951  3664.149902  3649.686035   \n",
            "1 2023-04-18  3674.949951  3718.0  3657.149902  3704.550049  3689.926514   \n",
            "\n",
            "   Volume  \n",
            "0  349558  \n",
            "1  136275  \n",
            "\n",
            "\n",
            "check= 1\n",
            "i= 1089\n",
            "check= 1\n",
            "Company name= Info Edge (India) Limited\n",
            "Suggestion=Buy stock\n",
            "Entry price= 4703.4\n",
            "Target price1= 4697.433430989584\n",
            "Target price2= 4704.516764322917\n",
            "Stop loss 783.43\n",
            "Index= 1090\n",
            "[*********************100%***********************]  1 of 1 completed"
          ]
        },
        {
          "output_type": "stream",
          "name": "stderr",
          "text": [
            "ERROR:yfinance:\n",
            "1 Failed download:\n",
            "ERROR:yfinance:['NAVINFLUOR']: Exception('%ticker%: No timezone found, symbol may be delisted')\n"
          ]
        },
        {
          "output_type": "stream",
          "name": "stdout",
          "text": [
            "\n",
            "[*********************100%***********************]  1 of 1 completed\n",
            "[*********************100%***********************]  1 of 1 completed\n",
            "        Date    Open    High          Low        Close    Adj Close  Volume\n",
            "0 2023-04-17  4515.0  4549.5  4465.000000  4531.899902  4518.164062   84737\n",
            "1 2023-04-18  4550.0  4625.0  4522.200195  4608.250000  4594.282715  163275\n",
            "\n",
            "\n",
            "check= 0\n",
            "i= 1090\n",
            "check= 0\n",
            "Index= 1091\n",
            "[*********************100%***********************]  1 of 1 completed"
          ]
        },
        {
          "output_type": "stream",
          "name": "stderr",
          "text": [
            "ERROR:yfinance:\n",
            "1 Failed download:\n",
            "ERROR:yfinance:['NAVKARCORP']: Exception('%ticker%: No timezone found, symbol may be delisted')\n"
          ]
        },
        {
          "output_type": "stream",
          "name": "stdout",
          "text": [
            "\n",
            "[*********************100%***********************]  1 of 1 completed\n",
            "[*********************100%***********************]  1 of 1 completed\n",
            "        Date       Open       High        Low      Close  Adj Close  Volume\n",
            "0 2023-04-17  54.799999  54.799999  53.900002  54.299999  54.299999  223286\n",
            "1 2023-04-18  54.599998  56.799999  54.099998  55.299999  55.299999  734774\n",
            "\n",
            "\n",
            "check= -1\n",
            "i= 1091\n",
            "check= -1\n",
            "Company name= Navkar Corporation Limited\n",
            "Suggestion=Sell stock\n",
            "Target price1= 60.60000101725261\n",
            "Target price2= 59.050000508626304\n",
            "Stop loss 783.43\n",
            "Index= 1092\n",
            "[*********************100%***********************]  1 of 1 completed"
          ]
        },
        {
          "output_type": "stream",
          "name": "stderr",
          "text": [
            "ERROR:yfinance:\n",
            "1 Failed download:\n",
            "ERROR:yfinance:['NAVNETEDUL']: Exception('%ticker%: No timezone found, symbol may be delisted')\n"
          ]
        },
        {
          "output_type": "stream",
          "name": "stdout",
          "text": [
            "\n",
            "[*********************100%***********************]  1 of 1 completed\n",
            "[*********************100%***********************]  1 of 1 completed\n",
            "        Date        Open        High         Low   Close   Adj Close  Volume\n",
            "0 2023-04-17  105.949997  112.449997  104.300003  111.50  109.481194  409549\n",
            "1 2023-04-18  111.500000  114.750000  111.000000  114.25  112.181404  321884\n",
            "\n",
            "\n",
            "check= 0\n",
            "i= 1092\n",
            "check= 0\n",
            "Index= 1093\n",
            "[*********************100%***********************]  1 of 1 completed"
          ]
        },
        {
          "output_type": "stream",
          "name": "stderr",
          "text": [
            "ERROR:yfinance:\n",
            "1 Failed download:\n",
            "ERROR:yfinance:['NAZARA']: Exception('%ticker%: No timezone found, symbol may be delisted')\n"
          ]
        },
        {
          "output_type": "stream",
          "name": "stdout",
          "text": [
            "\n",
            "[*********************100%***********************]  1 of 1 completed\n",
            "[*********************100%***********************]  1 of 1 completed\n",
            "        Date        Open        High    Low       Close   Adj Close  Volume\n",
            "0 2023-04-17  538.099976  539.450012  518.5  524.750000  524.750000  263882\n",
            "1 2023-04-18  526.349976  529.700012  515.0  517.900024  517.900024  142465\n",
            "\n",
            "\n",
            "check= 0\n",
            "i= 1093\n",
            "check= 0\n",
            "Index= 1094\n",
            "[*********************100%***********************]  1 of 1 completed\n",
            "[*********************100%***********************]  1 of 1 completed\n",
            "[*********************100%***********************]  1 of 1 completed\n",
            "        Date       Open       High        Low      Close  Adj Close  Volume\n",
            "0 2023-04-17  21.322001  21.322001  21.315001  21.315001  21.315001     100\n",
            "1 2023-04-18  21.497999  21.497999  21.497999  21.497999  21.497999       0\n",
            "\n",
            "\n",
            "check= 0\n",
            "i= 1094\n",
            "check= 0\n",
            "Index= 1095\n",
            "[*********************100%***********************]  1 of 1 completed"
          ]
        },
        {
          "output_type": "stream",
          "name": "stderr",
          "text": [
            "ERROR:yfinance:\n",
            "1 Failed download:\n",
            "ERROR:yfinance:['NBIFIN']: Exception('%ticker%: No timezone found, symbol may be delisted')\n"
          ]
        },
        {
          "output_type": "stream",
          "name": "stdout",
          "text": [
            "\n",
            "[*********************100%***********************]  1 of 1 completed\n",
            "[*********************100%***********************]  1 of 1 completed"
          ]
        },
        {
          "output_type": "stream",
          "name": "stderr",
          "text": [
            "ERROR:yfinance:\n",
            "1 Failed download:\n",
            "ERROR:yfinance:['NBIFIN.BO']: Exception('%ticker%: No timezone found, symbol may be delisted')\n"
          ]
        },
        {
          "output_type": "stream",
          "name": "stdout",
          "text": [
            "\n",
            "        Date    Open         High          Low        Close    Adj Close  \\\n",
            "0 2023-04-17  1485.0  1509.599976  1406.050049  1505.400024  1504.615234   \n",
            "1 2023-04-18  1500.0  1515.000000  1479.199951  1486.500000  1485.725098   \n",
            "\n",
            "   Volume  \n",
            "0     299  \n",
            "1      67  \n",
            "\n",
            "\n",
            "check= 0\n",
            "i= 1095\n",
            "check= 0\n",
            "Index= 1096\n",
            "[*********************100%***********************]  1 of 1 completed"
          ]
        },
        {
          "output_type": "stream",
          "name": "stderr",
          "text": [
            "ERROR:yfinance:\n",
            "1 Failed download:\n",
            "ERROR:yfinance:['NBVENTURES']: Exception('%ticker%: No timezone found, symbol may be delisted')\n"
          ]
        },
        {
          "output_type": "stream",
          "name": "stdout",
          "text": [
            "\n",
            "[*********************100%***********************]  1 of 1 completed"
          ]
        },
        {
          "output_type": "stream",
          "name": "stderr",
          "text": [
            "ERROR:yfinance:\n",
            "1 Failed download:\n",
            "ERROR:yfinance:['NBVENTURES.NS']: Exception('%ticker%: No timezone found, symbol may be delisted')\n"
          ]
        },
        {
          "output_type": "stream",
          "name": "stdout",
          "text": [
            "\n",
            "[*********************100%***********************]  1 of 1 completed"
          ]
        },
        {
          "output_type": "stream",
          "name": "stderr",
          "text": [
            "ERROR:yfinance:\n",
            "1 Failed download:\n",
            "ERROR:yfinance:['NBVENTURES.BO']: Exception('%ticker%: No timezone found, symbol may be delisted')\n"
          ]
        },
        {
          "output_type": "stream",
          "name": "stdout",
          "text": [
            "\n",
            "Index= 1097\n",
            "[*********************100%***********************]  1 of 1 completed"
          ]
        },
        {
          "output_type": "stream",
          "name": "stderr",
          "text": [
            "ERROR:yfinance:\n",
            "1 Failed download:\n",
            "ERROR:yfinance:['NCC']: Exception('%ticker%: No price data found, symbol may be delisted (1d 2023-04-15 -> 2023-08-13)')\n"
          ]
        },
        {
          "output_type": "stream",
          "name": "stdout",
          "text": [
            "\n",
            "[*********************100%***********************]  1 of 1 completed\n",
            "[*********************100%***********************]  1 of 1 completed\n",
            "        Date   Open        High         Low       Close   Adj Close   Volume\n",
            "0 2023-04-17  107.0  110.800003  106.699997  109.599998  109.599998  6014972\n",
            "1 2023-04-18  109.5  110.500000  108.250000  109.150002  109.150002  2322761\n",
            "\n",
            "\n",
            "check= 0\n",
            "i= 1097\n",
            "check= 0\n",
            "Index= 1098\n",
            "[*********************100%***********************]  1 of 1 completed"
          ]
        },
        {
          "output_type": "stream",
          "name": "stderr",
          "text": [
            "ERROR:yfinance:\n",
            "1 Failed download:\n",
            "ERROR:yfinance:['NCLIND']: Exception('%ticker%: No timezone found, symbol may be delisted')\n"
          ]
        },
        {
          "output_type": "stream",
          "name": "stdout",
          "text": [
            "\n",
            "[*********************100%***********************]  1 of 1 completed\n",
            "[*********************100%***********************]  1 of 1 completed\n",
            "        Date        Open    High    Low       Close   Adj Close  Volume\n",
            "0 2023-04-17  181.699997  185.00  178.5  184.350006  184.350006  116265\n",
            "1 2023-04-18  185.750000  185.75  181.0  183.350006  183.350006   80201\n",
            "\n",
            "\n",
            "check= 0\n",
            "i= 1098\n",
            "check= 0\n",
            "Index= 1099\n",
            "[*********************100%***********************]  1 of 1 completed"
          ]
        },
        {
          "output_type": "stream",
          "name": "stderr",
          "text": [
            "ERROR:yfinance:\n",
            "1 Failed download:\n",
            "ERROR:yfinance:['NDGL']: Exception('%ticker%: No timezone found, symbol may be delisted')\n"
          ]
        },
        {
          "output_type": "stream",
          "name": "stdout",
          "text": [
            "\n",
            "[*********************100%***********************]  1 of 1 completed\n",
            "[*********************100%***********************]  1 of 1 completed"
          ]
        },
        {
          "output_type": "stream",
          "name": "stderr",
          "text": [
            "ERROR:yfinance:\n",
            "1 Failed download:\n",
            "ERROR:yfinance:['NDGL.BO']: Exception('%ticker%: No timezone found, symbol may be delisted')\n"
          ]
        },
        {
          "output_type": "stream",
          "name": "stdout",
          "text": [
            "\n",
            "        Date    Open         High          Low        Close    Adj Close  \\\n",
            "0 2023-04-17  1340.0  1398.800049  1340.000000  1388.750000  1388.750000   \n",
            "1 2023-04-18  1390.0  1397.000000  1350.050049  1392.849976  1392.849976   \n",
            "\n",
            "   Volume  \n",
            "0      61  \n",
            "1      24  \n",
            "\n",
            "\n",
            "check= 0\n",
            "i= 1099\n",
            "check= 0\n",
            "Index= 1100\n",
            "[*********************100%***********************]  1 of 1 completed"
          ]
        },
        {
          "output_type": "stream",
          "name": "stderr",
          "text": [
            "ERROR:yfinance:\n",
            "1 Failed download:\n",
            "ERROR:yfinance:['NDL']: Exception('%ticker%: No price data found, symbol may be delisted (1d 2023-04-15 -> 2023-08-13)')\n"
          ]
        },
        {
          "output_type": "stream",
          "name": "stdout",
          "text": [
            "\n",
            "[*********************100%***********************]  1 of 1 completed\n",
            "[*********************100%***********************]  1 of 1 completed\n",
            "        Date       Open       High   Low      Close  Adj Close  Volume\n",
            "0 2023-04-17  22.450001  22.450001  21.5  21.799999  21.799999   68844\n",
            "1 2023-04-18  21.500000  23.400000  21.5  22.750000  22.750000  194575\n",
            "\n",
            "\n",
            "check= 0\n",
            "i= 1100\n",
            "check= 0\n",
            "Index= 1101\n",
            "[*********************100%***********************]  1 of 1 completed"
          ]
        },
        {
          "output_type": "stream",
          "name": "stderr",
          "text": [
            "ERROR:yfinance:\n",
            "1 Failed download:\n",
            "ERROR:yfinance:['NDRAUTO']: Exception('%ticker%: No timezone found, symbol may be delisted')\n"
          ]
        },
        {
          "output_type": "stream",
          "name": "stdout",
          "text": [
            "\n",
            "[*********************100%***********************]  1 of 1 completed\n",
            "[*********************100%***********************]  1 of 1 completed\n",
            "        Date   Open        High         Low       Close   Adj Close  Volume\n",
            "0 2023-04-17  316.0  317.450012  307.024994  310.825012  309.215515   16978\n",
            "1 2023-04-18  315.0  316.424988  302.500000  305.649994  304.067291   10414\n",
            "\n",
            "\n",
            "check= 0\n",
            "i= 1101\n",
            "check= 0\n",
            "Index= 1102\n",
            "[*********************100%***********************]  1 of 1 completed"
          ]
        },
        {
          "output_type": "stream",
          "name": "stderr",
          "text": [
            "ERROR:yfinance:\n",
            "1 Failed download:\n",
            "ERROR:yfinance:['NDTV']: Exception('%ticker%: No timezone found, symbol may be delisted')\n"
          ]
        },
        {
          "output_type": "stream",
          "name": "stdout",
          "text": [
            "\n",
            "[*********************100%***********************]  1 of 1 completed\n",
            "[*********************100%***********************]  1 of 1 completed\n",
            "        Date        Open        High         Low       Close   Adj Close  \\\n",
            "0 2023-04-17  193.899994  193.899994  187.050003  188.199997  188.199997   \n",
            "1 2023-04-18  188.500000  190.949997  186.500000  187.100006  187.100006   \n",
            "\n",
            "   Volume  \n",
            "0  217998  \n",
            "1  117213  \n",
            "\n",
            "\n",
            "check= 1\n",
            "i= 1102\n",
            "check= 1\n",
            "Company name= New Delhi Television Limited\n",
            "Suggestion=Buy stock\n",
            "Entry price= 223.6627530670166\n",
            "Target price1= 221.4833272298177\n",
            "Target price2= 220.76665751139322\n",
            "Stop loss 783.43\n",
            "Index= 1103\n",
            "[*********************100%***********************]  1 of 1 completed"
          ]
        },
        {
          "output_type": "stream",
          "name": "stderr",
          "text": [
            "ERROR:yfinance:\n",
            "1 Failed download:\n",
            "ERROR:yfinance:['NECCLTD']: Exception('%ticker%: No timezone found, symbol may be delisted')\n"
          ]
        },
        {
          "output_type": "stream",
          "name": "stdout",
          "text": [
            "\n",
            "[*********************100%***********************]  1 of 1 completed\n",
            "[*********************100%***********************]  1 of 1 completed\n",
            "        Date       Open   High        Low      Close  Adj Close  Volume\n",
            "0 2023-04-17  18.700001  19.25  18.549999  18.900000  18.900000   85177\n",
            "1 2023-04-18  19.250000  19.25  17.799999  18.450001  18.450001   66573\n",
            "\n",
            "\n",
            "check= -1\n",
            "i= 1103\n",
            "check= -1\n",
            "Company name= North Eastern Carrying Corporation Limited\n",
            "Suggestion=Sell stock\n",
            "Target price1= 19.049999237060547\n",
            "Target price2= 18.94999885559082\n",
            "Stop loss 783.43\n",
            "Index= 1104\n",
            "[*********************100%***********************]  1 of 1 completed"
          ]
        },
        {
          "output_type": "stream",
          "name": "stderr",
          "text": [
            "ERROR:yfinance:\n",
            "1 Failed download:\n",
            "ERROR:yfinance:['NECLIFE']: Exception('%ticker%: No timezone found, symbol may be delisted')\n"
          ]
        },
        {
          "output_type": "stream",
          "name": "stdout",
          "text": [
            "\n",
            "[*********************100%***********************]  1 of 1 completed\n",
            "[*********************100%***********************]  1 of 1 completed\n",
            "        Date       Open   High        Low  Close  Adj Close  Volume\n",
            "0 2023-04-17  17.549999  17.75  17.150000   17.4       17.4  119728\n",
            "1 2023-04-18  17.549999  17.90  17.450001   17.6       17.6  187776\n",
            "\n",
            "\n",
            "check= 0\n",
            "i= 1104\n",
            "check= 0\n",
            "Index= 1105\n",
            "[*********************100%***********************]  1 of 1 completed"
          ]
        },
        {
          "output_type": "stream",
          "name": "stderr",
          "text": [
            "ERROR:yfinance:\n",
            "1 Failed download:\n",
            "ERROR:yfinance:['NELCAST']: Exception('%ticker%: No timezone found, symbol may be delisted')\n"
          ]
        },
        {
          "output_type": "stream",
          "name": "stdout",
          "text": [
            "\n",
            "[*********************100%***********************]  1 of 1 completed\n",
            "[*********************100%***********************]  1 of 1 completed\n",
            "        Date       Open       High        Low      Close  Adj Close  Volume\n",
            "0 2023-04-17  93.199997  95.599998  91.500000  92.099998  91.408081  205493\n",
            "1 2023-04-18  91.500000  94.000000  91.400002  93.150002  92.450203  164593\n",
            "\n",
            "\n",
            "check= 0\n",
            "i= 1105\n",
            "check= 0\n",
            "Index= 1106\n",
            "[*********************100%***********************]  1 of 1 completed"
          ]
        },
        {
          "output_type": "stream",
          "name": "stderr",
          "text": [
            "ERROR:yfinance:\n",
            "1 Failed download:\n",
            "ERROR:yfinance:['NELCO']: Exception('%ticker%: No timezone found, symbol may be delisted')\n"
          ]
        },
        {
          "output_type": "stream",
          "name": "stdout",
          "text": [
            "\n",
            "[*********************100%***********************]  1 of 1 completed\n",
            "[*********************100%***********************]  1 of 1 completed\n",
            "        Date        Open   High         Low       Close   Adj Close  Volume\n",
            "0 2023-04-17  547.799988  555.0  537.200012  553.299988  551.552063   91952\n",
            "1 2023-04-18  560.000000  563.0  543.049988  546.750000  545.022766   45213\n",
            "\n",
            "\n",
            "check= 1\n",
            "i= 1106\n",
            "check= 1\n",
            "Company name= NELCO Limited\n",
            "Suggestion=Buy stock\n",
            "Entry price= 788.925\n",
            "Target price1= 777.5833536783855\n",
            "Target price2= 780.5166829427084\n",
            "Stop loss 783.43\n",
            "Index= 1107\n",
            "[*********************100%***********************]  1 of 1 completed"
          ]
        },
        {
          "output_type": "stream",
          "name": "stderr",
          "text": [
            "ERROR:yfinance:\n",
            "1 Failed download:\n",
            "ERROR:yfinance:['NEOGEN']: Exception('%ticker%: No timezone found, symbol may be delisted')\n"
          ]
        },
        {
          "output_type": "stream",
          "name": "stdout",
          "text": [
            "\n",
            "[*********************100%***********************]  1 of 1 completed\n",
            "[*********************100%***********************]  1 of 1 completed\n",
            "        Date         Open         High          Low        Close    Adj Close  \\\n",
            "0 2023-04-17  1624.949951  1644.900024  1609.050049  1637.949951  1637.949951   \n",
            "1 2023-04-18  1623.300049  1642.900024  1604.949951  1612.800049  1612.800049   \n",
            "\n",
            "   Volume  \n",
            "0  167220  \n",
            "1   41075  \n",
            "\n",
            "\n",
            "check= 0\n",
            "i= 1107\n",
            "check= 0\n",
            "Index= 1108\n",
            "[*********************100%***********************]  1 of 1 completed"
          ]
        },
        {
          "output_type": "stream",
          "name": "stderr",
          "text": [
            "ERROR:yfinance:\n",
            "1 Failed download:\n",
            "ERROR:yfinance:['NESCO']: Exception('%ticker%: No timezone found, symbol may be delisted')\n"
          ]
        },
        {
          "output_type": "stream",
          "name": "stdout",
          "text": [
            "\n",
            "[*********************100%***********************]  1 of 1 completed\n",
            "[*********************100%***********************]  1 of 1 completed\n",
            "        Date        Open        High         Low       Close   Adj Close  \\\n",
            "0 2023-04-17  540.200012  540.200012  529.200012  531.599976  527.986084   \n",
            "1 2023-04-18  532.200012  534.549988  526.299988  529.599976  525.999695   \n",
            "\n",
            "   Volume  \n",
            "0   47091  \n",
            "1   36132  \n",
            "\n",
            "\n",
            "check= 0\n",
            "i= 1108\n",
            "check= 0\n",
            "Index= 1109\n",
            "[*********************100%***********************]  1 of 1 completed"
          ]
        },
        {
          "output_type": "stream",
          "name": "stderr",
          "text": [
            "ERROR:yfinance:\n",
            "1 Failed download:\n",
            "ERROR:yfinance:['NESTLEIND']: Exception('%ticker%: No timezone found, symbol may be delisted')\n"
          ]
        },
        {
          "output_type": "stream",
          "name": "stdout",
          "text": [
            "\n",
            "[*********************100%***********************]  1 of 1 completed\n",
            "[*********************100%***********************]  1 of 1 completed\n",
            "        Date     Open     High           Low         Close     Adj Close  \\\n",
            "0 2023-04-17  19590.0  20410.0  19502.150391  20244.400391  20143.539062   \n",
            "1 2023-04-18  20200.0  20700.0  20200.000000  20661.250000  20558.312500   \n",
            "\n",
            "   Volume  \n",
            "0  194351  \n",
            "1  139860  \n",
            "\n",
            "\n",
            "check= 0\n",
            "i= 1109\n",
            "check= 0\n",
            "Index= 1110\n",
            "[*********************100%***********************]  1 of 1 completed"
          ]
        },
        {
          "output_type": "stream",
          "name": "stderr",
          "text": [
            "ERROR:yfinance:\n",
            "1 Failed download:\n",
            "ERROR:yfinance:['NETWORK18']: Exception('%ticker%: No timezone found, symbol may be delisted')\n"
          ]
        },
        {
          "output_type": "stream",
          "name": "stdout",
          "text": [
            "\n",
            "[*********************100%***********************]  1 of 1 completed\n",
            "[*********************100%***********************]  1 of 1 completed\n",
            "        Date       Open       High        Low      Close  Adj Close   Volume\n",
            "0 2023-04-17  55.200001  58.400002  55.200001  57.349998  57.349998  3453711\n",
            "1 2023-04-18  54.000000  56.599998  53.150002  55.400002  55.400002  2144175\n",
            "\n",
            "\n",
            "check= 0\n",
            "i= 1110\n",
            "check= 0\n",
            "Index= 1111\n",
            "[*********************100%***********************]  1 of 1 completed"
          ]
        },
        {
          "output_type": "stream",
          "name": "stderr",
          "text": [
            "ERROR:yfinance:\n",
            "1 Failed download:\n",
            "ERROR:yfinance:['NEULANDLAB']: Exception('%ticker%: No timezone found, symbol may be delisted')\n"
          ]
        },
        {
          "output_type": "stream",
          "name": "stdout",
          "text": [
            "\n",
            "[*********************100%***********************]  1 of 1 completed\n",
            "[*********************100%***********************]  1 of 1 completed\n",
            "        Date    Open         High     Low        Close    Adj Close  Volume\n",
            "0 2023-04-17  2075.0  2115.000000  2005.0  2054.750000  2047.682739   44216\n",
            "1 2023-04-18  2055.0  2081.449951  2016.0  2056.050049  2048.978271   32399\n",
            "\n",
            "\n",
            "check= 0\n",
            "i= 1111\n",
            "check= 0\n",
            "Index= 1112\n",
            "[*********************100%***********************]  1 of 1 completed"
          ]
        },
        {
          "output_type": "stream",
          "name": "stderr",
          "text": [
            "ERROR:yfinance:\n",
            "1 Failed download:\n",
            "ERROR:yfinance:['NEWGEN']: Exception('%ticker%: No timezone found, symbol may be delisted')\n"
          ]
        },
        {
          "output_type": "stream",
          "name": "stdout",
          "text": [
            "\n",
            "[*********************100%***********************]  1 of 1 completed\n",
            "[*********************100%***********************]  1 of 1 completed\n",
            "        Date        Open        High         Low       Close   Adj Close  \\\n",
            "0 2023-04-17  455.000000  468.049988  446.299988  457.000000  449.998810   \n",
            "1 2023-04-18  452.549988  471.899994  452.549988  468.649994  461.470337   \n",
            "\n",
            "   Volume  \n",
            "0  104920  \n",
            "1   85697  \n",
            "\n",
            "\n",
            "check= 0\n",
            "i= 1112\n",
            "check= 0\n",
            "Index= 1113\n",
            "[*********************100%***********************]  1 of 1 completed"
          ]
        },
        {
          "output_type": "stream",
          "name": "stderr",
          "text": [
            "ERROR:yfinance:\n",
            "1 Failed download:\n",
            "ERROR:yfinance:['NEXTMEDIA']: Exception('%ticker%: No timezone found, symbol may be delisted')\n"
          ]
        },
        {
          "output_type": "stream",
          "name": "stdout",
          "text": [
            "\n",
            "[*********************100%***********************]  1 of 1 completed\n",
            "[*********************100%***********************]  1 of 1 completed\n",
            "        Date  Open  High  Low  Close  Adj Close  Volume\n",
            "0 2023-04-17  5.15  5.15  4.8   4.95       4.95    3260\n",
            "1 2023-04-18  4.90  5.05  4.8   4.90       4.90    1382\n",
            "\n",
            "\n",
            "check= 0\n",
            "i= 1113\n",
            "check= 0\n"
          ]
        }
      ],
      "source": [
        "\n",
        "file=open('suggest.txt','w')\n",
        "i=1000\n",
        "result=[]\n",
        "while(i<len(symbol)-700):\n",
        "    try:\n",
        "        print(\"Index=\",i)\n",
        "        string=symbol[i][0]\n",
        "        df=get_symbol(string,y,x)\n",
        "        df=df.reset_index()\n",
        "        print(df.head(2))\n",
        "        print(\"\\n\")\n",
        "        data=np.array(df)\n",
        "        temp=(df.shape)[0]-1\n",
        "        if(temp<4):\n",
        "            i=i+1\n",
        "            continue\n",
        "        check=check_pattern(data,temp-1)\n",
        "        print(\"check=\",check)\n",
        "        print(\"i=\",i)\n",
        "        print(\"check=\",check)\n",
        "        if(check>0):\n",
        "            file.write(\"Company name=\")\n",
        "            file.write(symbol[i][1])\n",
        "            file.write(\"\\n\")\n",
        "            file.write(\"Suggestion=Buy stock\\n\")\n",
        "            file.write(\"Entry price=\")\n",
        "            avg=data[temp-1][1]\n",
        "            avg=avg+(avg*0.005)\n",
        "            file.write(str(round(avg,2)))\n",
        "            high=piv_high(data,temp-1)\n",
        "            low=piv_low(data,temp-1)\n",
        "            close=piv_close(data,temp-1)\n",
        "\n",
        "            pp=(high+low+close)/3\n",
        "            rr1=(2*pp)-low\n",
        "            target1=rr1\n",
        "            rr2=pp+(high-low)\n",
        "            target2=rr2\n",
        "            # file.write(\"\\nTarget price 1=\")\n",
        "            # file.write(str(round(target1,2)))\n",
        "            # file.write(\"\\nTarget price 1=\")\n",
        "            # file.write(str(round(target2,2)))\n",
        "\n",
        "            # file.write(\"\\nStop loss=\")\n",
        "            # stop_loss=data[temp-1][2]\n",
        "            # stop_loss=stop_loss-(stop_loss*0.002)\n",
        "            # file.write(str(round(stop_loss,2)))\n",
        "            file.write(\"\\n\\n\")\n",
        "\n",
        "            print(\"Company name=\",symbol[i][1])\n",
        "            print(\"Suggestion=Buy stock\")\n",
        "            print(\"Entry price=\",avg)\n",
        "            print(\"Target price1=\",target1)\n",
        "            print(\"Target price2=\",target2)\n",
        "            print(\"Stop loss\",stop_loss)\n",
        "\n",
        "            if(data[temp-1][4]<data[temp][4]):\n",
        "                result.append([symbol[i][1],data[temp-1][0],'bullish','bullish'])\n",
        "            else:\n",
        "                result.append([symbol[i][1],data[temp-1][0],'bullish','bearish'])\n",
        "            i=i+1\n",
        "        elif check<0:\n",
        "            file.write(\"Company name=\")\n",
        "            file.write(symbol[i][1])\n",
        "            file.write(\"\\n\")\n",
        "            file.write(\"Suggestion=Sell stock\\n\")\n",
        "            file.write(\"Entry price=\")\n",
        "            avg=data[temp-1][1]\n",
        "            avg=avg+(avg*0.005)\n",
        "            file.write(str(round(avg,2)))\n",
        "            high=piv_high(data,temp-1)\n",
        "            low=piv_low(data,temp-1)\n",
        "            close=piv_close(data,temp-1)\n",
        "\n",
        "            pp=(high+low+close)/3\n",
        "            rr1=(2*pp)-low\n",
        "            target1=rr1\n",
        "            rr2=pp+(high-low)\n",
        "            target2=rr2\n",
        "            # file.write(\"\\nTarget price 1=\")\n",
        "            # file.write(str(round(target1,2)))\n",
        "            # file.write(\"\\nTarget price 2=\")\n",
        "            # file.write(str(round(target2,2)))\n",
        "\n",
        "            # file.write(\"\\nStop loss=\")\n",
        "            # stop_loss=data[temp-1][2]\n",
        "            # stop_loss=stop_loss-(stop_loss*0.002)\n",
        "            # file.write(str(round(stop_loss,2)))\n",
        "            file.write(\"\\n\\n\")\n",
        "\n",
        "            print(\"Company name=\",symbol[i][1])\n",
        "            print(\"Suggestion=Sell stock\")\n",
        "            print(\"Target price1=\",target1)\n",
        "            print(\"Target price2=\",target2)\n",
        "            print(\"Stop loss\",stop_loss)\n",
        "\n",
        "            if(data[temp-1][4]<data[temp][4]):\n",
        "                result.append([symbol[i][1],data[temp-1][0],'bearish','bullish'])\n",
        "            else:\n",
        "                result.append([symbol[i][1],data[temp-1][0],'bearish','bearish'])\n",
        "            i=i+1\n",
        "        else:\n",
        "            i=i+1\n",
        "    except:\n",
        "\n",
        "\n",
        "\n",
        "        i=i+1\n",
        "file.close()\n"
      ]
    },
    {
      "cell_type": "code",
      "execution_count": null,
      "metadata": {
        "id": "mvdSSxmYbAra"
      },
      "outputs": [],
      "source": [
        "res_df=pd.DataFrame(result,columns=['Date','Company Name','Prediction','Actual'])"
      ]
    },
    {
      "cell_type": "code",
      "execution_count": null,
      "metadata": {
        "id": "3_lQ8F2GbAra"
      },
      "outputs": [],
      "source": [
        "res_df.to_csv('prediction_res.csv')"
      ]
    },
    {
      "cell_type": "code",
      "execution_count": null,
      "metadata": {
        "id": "-eMDSY5wbArb"
      },
      "outputs": [],
      "source": [
        "count=0\n",
        "b=0\n",
        "for i in range(len(result)):\n",
        "    if(result[i][2]==result[i][3] and result[i][2]=='bullish'):\n",
        "        count=count+1\n",
        "    elif(result[i][2]==result[i][3] and result[i][2]=='bearish'):\n",
        "        b=b+1"
      ]
    },
    {
      "cell_type": "code",
      "execution_count": null,
      "metadata": {
        "id": "o8k_uMlnbArb"
      },
      "outputs": [],
      "source": [
        "acq=(count+b)/len(result)"
      ]
    },
    {
      "cell_type": "code",
      "execution_count": null,
      "metadata": {
        "colab": {
          "base_uri": "https://localhost:8080/"
        },
        "id": "nuuqjlm2bArb",
        "outputId": "ff3ac81e-6f93-4d77-f824-083daff74c79"
      },
      "outputs": [
        {
          "output_type": "stream",
          "name": "stdout",
          "text": [
            "The accuraccy is= 0.56\n"
          ]
        }
      ],
      "source": [
        "print(\"The accuraccy is=\",round(acq,2))"
      ]
    },
    {
      "cell_type": "code",
      "source": [
        "arr = res_df.to_numpy()"
      ],
      "metadata": {
        "id": "Uffv4p0ngt74"
      },
      "execution_count": null,
      "outputs": []
    },
    {
      "cell_type": "code",
      "source": [
        "actual=[]\n",
        "predicted=[]\n",
        "for i in range (len(arr)):\n",
        "  actual.append(arr[i][2])\n",
        "  predicted.append(arr[i][3])"
      ],
      "metadata": {
        "id": "gOWAXoK-hJZm"
      },
      "execution_count": null,
      "outputs": []
    },
    {
      "cell_type": "code",
      "source": [
        "from sklearn import metrics\n",
        "confusion_matrix = metrics.confusion_matrix(actual, predicted)\n",
        "cm_display = metrics.ConfusionMatrixDisplay(confusion_matrix = confusion_matrix, display_labels = ['Bearish', 'Bullsih'])\n",
        "import matplotlib.pyplot as plt\n",
        "cm_display.plot()\n",
        "plt.show()"
      ],
      "metadata": {
        "colab": {
          "base_uri": "https://localhost:8080/",
          "height": 455
        },
        "id": "IXwDX4LfgfAq",
        "outputId": "df0cd921-6bf5-413f-acff-6449b4099ea6"
      },
      "execution_count": null,
      "outputs": [
        {
          "output_type": "display_data",
          "data": {
            "text/plain": [
              "<Figure size 640x480 with 2 Axes>"
            ],
            "image/png": "[encoded data removed]"
          },
          "metadata": {}
        }
      ]
    },
    {
      "cell_type": "code",
      "execution_count": null,
      "metadata": {
        "id": "SxhpwUhLbArb"
      },
      "outputs": [],
      "source": []
    }
  ],
  "metadata": {
    "kernelspec": {
      "display_name": "Python 3.9.7 ('base')",
      "language": "python",
      "name": "python3"
    },
    "language_info": {
      "codemirror_mode": {
        "name": "ipython",
        "version": 3
      },
      "file_extension": ".py",
      "mimetype": "text/x-python",
      "name": "python",
      "nbconvert_exporter": "python",
      "pygments_lexer": "ipython3",
      "version": "3.9.7 (default, Sep 16 2021, 16:59:28) [MSC v.1916 64 bit (AMD64)]"
    },
    "orig_nbformat": 4,
    "vscode": {
      "interpreter": {
        "hash": "ad2bdc8ecc057115af97d19610ffacc2b4e99fae6737bb82f5d7fb13d2f2c186"
      }
    },
    "colab": {
      "provenance": []
    }
  },
  "nbformat": 4,
  "nbformat_minor": 0
}